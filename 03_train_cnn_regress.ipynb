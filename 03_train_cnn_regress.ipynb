{
 "cells": [
  {
   "cell_type": "markdown",
   "id": "e8f11277",
   "metadata": {},
   "source": [
    "#### Imports"
   ]
  },
  {
   "cell_type": "code",
   "execution_count": 1,
   "id": "bc46167a",
   "metadata": {},
   "outputs": [],
   "source": [
    "from pylab import zeros, arange, subplots, plt, savefig\n",
    "from torch.utils.data import Dataset, DataLoader\n",
    "import torchvision.transforms as transforms\n",
    "import torch.backends.cudnn as cudnn\n",
    "import torchvision.models as models\n",
    "from PIL import Image\n",
    "import numpy as np\n",
    "import logging\n",
    "import torch\n",
    "import time"
   ]
  },
  {
   "cell_type": "markdown",
   "id": "b95b7166",
   "metadata": {},
   "source": [
    "#### Setup logger"
   ]
  },
  {
   "cell_type": "code",
   "execution_count": 2,
   "id": "7f47fb00",
   "metadata": {},
   "outputs": [],
   "source": [
    "logger = logging.getLogger(__name__)\n",
    "logger.setLevel(logging.INFO)\n",
    "logger.addHandler(logging.StreamHandler())"
   ]
  },
  {
   "cell_type": "code",
   "execution_count": 3,
   "id": "f937bc63",
   "metadata": {},
   "outputs": [
    {
     "name": "stderr",
     "output_type": "stream",
     "text": [
      "Using torch: 1.4.0\n"
     ]
    }
   ],
   "source": [
    "logger.info(f'Using torch: {torch.__version__}')"
   ]
  },
  {
   "cell_type": "markdown",
   "id": "accbcaff",
   "metadata": {},
   "source": [
    "#### Essentials"
   ]
  },
  {
   "cell_type": "code",
   "execution_count": 4,
   "id": "d57a8943",
   "metadata": {},
   "outputs": [],
   "source": [
    "DATASET_ROOT = './data/'\n",
    "CAPTIONS_TRAIN_SET_PATH = 'embeddings/caption_embeddings.csv'\n",
    "CAPTIONS_VALIDATION_SET_PATH = 'embeddings/caption_embeddings.csv'"
   ]
  },
  {
   "cell_type": "code",
   "execution_count": 5,
   "id": "f5422064",
   "metadata": {},
   "outputs": [],
   "source": [
    "EMBEDDING_DIMENSIONALITY = 1000 # number of CNN outputs = dimensionality of the captions word2vec model\n",
    "BATCH_SIZE = 4 \n",
    "EPOCHS = 10\n",
    "WORKERS = 4 # number of data loading workers = CPU cores\n",
    "GPU = 0\n",
    "LR = 0.01 \n",
    "MOMENTUM = 0.9\n",
    "WEIGHT_DECAY = 1e-4"
   ]
  },
  {
   "cell_type": "code",
   "execution_count": 6,
   "id": "9344fb8d",
   "metadata": {},
   "outputs": [],
   "source": [
    "cudnn.benchmark = True"
   ]
  },
  {
   "cell_type": "markdown",
   "id": "2a2ef4b8",
   "metadata": {},
   "source": [
    "#### Define model"
   ]
  },
  {
   "cell_type": "code",
   "execution_count": 7,
   "id": "776a7e63",
   "metadata": {},
   "outputs": [],
   "source": [
    "class Model(torch.nn.Module):\n",
    "    def __init__(self, embedding_dimensionality):\n",
    "        super(Model, self).__init__()\n",
    "        self.cnn = models.resnet50(pretrained=True, num_classes=embedding_dimensionality)\n",
    "\n",
    "    def forward(self, image):\n",
    "        x = self.cnn(image)\n",
    "        return x"
   ]
  },
  {
   "cell_type": "markdown",
   "id": "e26272be",
   "metadata": {},
   "source": [
    "https://pytorch.org/docs/stable/generated/torch.nn.BCEWithLogitsLoss.html"
   ]
  },
  {
   "cell_type": "code",
   "execution_count": 8,
   "id": "7cc62d9e",
   "metadata": {},
   "outputs": [],
   "source": [
    "criterion = torch.nn.BCEWithLogitsLoss().cuda(GPU)"
   ]
  },
  {
   "cell_type": "markdown",
   "id": "554945f2",
   "metadata": {},
   "source": [
    "Create ResNet50 model with custom number of outputs"
   ]
  },
  {
   "cell_type": "code",
   "execution_count": 9,
   "id": "3a63bc94",
   "metadata": {},
   "outputs": [],
   "source": [
    "model = Model(embedding_dimensionality=EMBEDDING_DIMENSIONALITY).cuda(GPU)"
   ]
  },
  {
   "cell_type": "code",
   "execution_count": 10,
   "id": "fafdaf74",
   "metadata": {},
   "outputs": [
    {
     "data": {
      "text/plain": [
       "Adam (\n",
       "Parameter Group 0\n",
       "    amsgrad: False\n",
       "    betas: (0.9, 0.999)\n",
       "    eps: 1e-08\n",
       "    lr: 0.01\n",
       "    weight_decay: 0.0001\n",
       ")"
      ]
     },
     "execution_count": 10,
     "metadata": {},
     "output_type": "execute_result"
    }
   ],
   "source": [
    "optimizer = torch.optim.Adam(model.parameters(), lr=LR, weight_decay=WEIGHT_DECAY)\n",
    "optimizer"
   ]
  },
  {
   "cell_type": "code",
   "execution_count": 11,
   "id": "682571a6",
   "metadata": {},
   "outputs": [],
   "source": [
    "model = torch.nn.DataParallel(model, device_ids=[GPU])"
   ]
  },
  {
   "cell_type": "markdown",
   "id": "c0634b63",
   "metadata": {},
   "source": [
    "#### Define and load datasets"
   ]
  },
  {
   "cell_type": "code",
   "execution_count": 12,
   "id": "4a86c61b",
   "metadata": {},
   "outputs": [],
   "source": [
    "class Dataset(Dataset):\n",
    "    def __init__(self, root_dir, split, embedding_dimensionality):\n",
    "        self.root_dir = root_dir\n",
    "        self.split = split\n",
    "        self.embedding_dimensionality = embedding_dimensionality\n",
    "        self.preprocess = transforms.Compose([transforms.RandomHorizontalFlip(), \n",
    "                                              transforms.RandomCrop(224), \n",
    "                                              transforms.ToTensor(), \n",
    "                                              transforms.Normalize(mean=[0.485, 0.456, 0.406], \n",
    "                                                                   std=[0.229, 0.224, 0.225])])\n",
    "        logger.info(f'Loading data from {split}')\n",
    "        \n",
    "        # count number of images in the split\n",
    "        n = 0\n",
    "        with open(f'{root_dir}{split}', 'r') as f:\n",
    "            for _, _ in enumerate(f):\n",
    "                n += 1\n",
    "                \n",
    "        # placeholder for image ids - dummy bytes\n",
    "        self.img_ids = np.empty([n], dtype='S50')\n",
    "        # placeholder for captions embedding - [number of captions * vector dimension]\n",
    "        self.captions_embeddings = np.zeros((n, self.embedding_dimensionality), dtype=np.float32)\n",
    "        \n",
    "        # populate the placeholders \n",
    "        with open(f'{root_dir}{split}', 'r') as f:\n",
    "            for idx, row in enumerate(f):\n",
    "                uid, vec = row.split('\\t')\n",
    "                vec = vec.strip().split(',')\n",
    "                self.img_ids[idx] = uid\n",
    "                for i in range(self.embedding_dimensionality):\n",
    "                    self.captions_embeddings[idx, i] = float(vec[i])\n",
    "        logger.info(f'Caption embedding shape = {self.captions_embeddings[0].shape}')\n",
    "        logger.info('Data loading done.')\n",
    "\n",
    "    def __len__(self):\n",
    "        return len(self.img_ids)\n",
    "    \n",
    "    def __getitem__(self, idx):\n",
    "        img_id = self.img_ids[idx].decode('utf-8')\n",
    "        img = Image.open(f'{self.root_dir}images/{img_id}.jpg').convert('RGB')\n",
    "        img_tensor = self.preprocess(img)\n",
    "        target_tensor = torch.from_numpy(self.captions_embeddings[idx, :])\n",
    "        return img_id, img_tensor, target_tensor"
   ]
  },
  {
   "cell_type": "code",
   "execution_count": 13,
   "id": "dbbc1695",
   "metadata": {},
   "outputs": [
    {
     "name": "stderr",
     "output_type": "stream",
     "text": [
      "Loading data from embeddings/caption_embeddings.csv\n",
      "Caption embedding shape = (1000,)\n",
      "Data loading done.\n"
     ]
    }
   ],
   "source": [
    "train_dataset = Dataset(DATASET_ROOT, CAPTIONS_TRAIN_SET_PATH, EMBEDDING_DIMENSIONALITY)"
   ]
  },
  {
   "cell_type": "code",
   "execution_count": 14,
   "id": "f247a038",
   "metadata": {},
   "outputs": [
    {
     "data": {
      "text/plain": [
       "20"
      ]
     },
     "execution_count": 14,
     "metadata": {},
     "output_type": "execute_result"
    }
   ],
   "source": [
    "len(train_dataset)"
   ]
  },
  {
   "cell_type": "markdown",
   "id": "03742eb3",
   "metadata": {},
   "source": [
    "Dataset object wraps - image id, image tensor and the caption embedding tensor."
   ]
  },
  {
   "cell_type": "code",
   "execution_count": 15,
   "id": "a36456d2",
   "metadata": {},
   "outputs": [],
   "source": [
    "image_id, image_tensor, caption_embedding_tensor = train_dataset[3]"
   ]
  },
  {
   "cell_type": "code",
   "execution_count": 16,
   "id": "f4ac1999",
   "metadata": {},
   "outputs": [
    {
     "data": {
      "text/plain": [
       "'1489658491986857252'"
      ]
     },
     "execution_count": 16,
     "metadata": {},
     "output_type": "execute_result"
    }
   ],
   "source": [
    "image_id"
   ]
  },
  {
   "cell_type": "code",
   "execution_count": 17,
   "id": "86c3d61b",
   "metadata": {},
   "outputs": [
    {
     "data": {
      "text/plain": [
       "torch.Size([3, 224, 224])"
      ]
     },
     "execution_count": 17,
     "metadata": {},
     "output_type": "execute_result"
    }
   ],
   "source": [
    "image_tensor.shape"
   ]
  },
  {
   "cell_type": "code",
   "execution_count": 18,
   "id": "d34f6f11",
   "metadata": {},
   "outputs": [
    {
     "data": {
      "text/plain": [
       "torch.Size([1000])"
      ]
     },
     "execution_count": 18,
     "metadata": {},
     "output_type": "execute_result"
    }
   ],
   "source": [
    "caption_embedding_tensor.shape"
   ]
  },
  {
   "cell_type": "code",
   "execution_count": 19,
   "id": "afa82766",
   "metadata": {},
   "outputs": [
    {
     "name": "stderr",
     "output_type": "stream",
     "text": [
      "Loading data from embeddings/caption_embeddings.csv\n",
      "Caption embedding shape = (1000,)\n",
      "Data loading done.\n"
     ]
    }
   ],
   "source": [
    "val_dataset = Dataset(DATASET_ROOT, CAPTIONS_VALIDATION_SET_PATH, EMBEDDING_DIMENSIONALITY)"
   ]
  },
  {
   "cell_type": "markdown",
   "id": "d0e2d1c7",
   "metadata": {},
   "source": [
    "`pin_memory` allows better transferring of samples to GPU memory"
   ]
  },
  {
   "cell_type": "code",
   "execution_count": 20,
   "id": "25d5ef69",
   "metadata": {},
   "outputs": [],
   "source": [
    "train_loader = torch.utils.data.DataLoader(train_dataset, \n",
    "                                           batch_size=BATCH_SIZE, \n",
    "                                           shuffle=True, \n",
    "                                           num_workers=WORKERS, \n",
    "                                           pin_memory=True)"
   ]
  },
  {
   "cell_type": "code",
   "execution_count": 21,
   "id": "7bded188",
   "metadata": {},
   "outputs": [
    {
     "data": {
      "text/plain": [
       "{'dataset': <__main__.Dataset at 0x7f3cb6ef10b8>,\n",
       " 'num_workers': 4,\n",
       " 'pin_memory': True,\n",
       " 'timeout': 0,\n",
       " 'worker_init_fn': None,\n",
       " '_DataLoader__multiprocessing_context': None,\n",
       " '_dataset_kind': 0,\n",
       " 'batch_size': 4,\n",
       " 'drop_last': False,\n",
       " 'sampler': <torch.utils.data.sampler.RandomSampler at 0x7f3cbbfafb38>,\n",
       " 'batch_sampler': <torch.utils.data.sampler.BatchSampler at 0x7f3cbbfafb70>,\n",
       " 'collate_fn': <function torch.utils.data._utils.collate.default_collate(batch)>,\n",
       " '_DataLoader__initialized': True,\n",
       " '_IterableDataset_len_called': None}"
      ]
     },
     "execution_count": 21,
     "metadata": {},
     "output_type": "execute_result"
    }
   ],
   "source": [
    "train_loader.__dict__"
   ]
  },
  {
   "cell_type": "code",
   "execution_count": 22,
   "id": "456cfeb2",
   "metadata": {},
   "outputs": [],
   "source": [
    "val_loader = torch.utils.data.DataLoader(val_dataset, \n",
    "                                         batch_size=BATCH_SIZE, \n",
    "                                         shuffle=True, \n",
    "                                         num_workers=WORKERS, \n",
    "                                         pin_memory=True)"
   ]
  },
  {
   "cell_type": "markdown",
   "id": "e48d21e0",
   "metadata": {},
   "source": [
    "#### Monitor"
   ]
  },
  {
   "cell_type": "code",
   "execution_count": 23,
   "id": "6ac941d1",
   "metadata": {},
   "outputs": [],
   "source": [
    "class AverageMeter(object):\n",
    "    \"\"\"\n",
    "    Computes and stores the average and current value.\n",
    "    \"\"\"\n",
    "    def __init__(self):\n",
    "        self.reset()\n",
    "\n",
    "    def reset(self):\n",
    "        self.val = 0\n",
    "        self.avg = 0\n",
    "        self.sum = 0\n",
    "        self.count = 0\n",
    "\n",
    "    def update(self, val, n=1):\n",
    "        self.val = val\n",
    "        self.sum += val * n\n",
    "        self.count += n\n",
    "        self.avg = self.sum / self.count"
   ]
  },
  {
   "cell_type": "markdown",
   "id": "1e70b343",
   "metadata": {},
   "source": [
    "#### Train"
   ]
  },
  {
   "cell_type": "code",
   "execution_count": 24,
   "id": "2e170575",
   "metadata": {},
   "outputs": [],
   "source": [
    "print_freq = 1 # how frequently to print loss value to screen"
   ]
  },
  {
   "cell_type": "code",
   "execution_count": 25,
   "id": "4f36dcd3",
   "metadata": {},
   "outputs": [],
   "source": [
    "def train(train_loader, model, criterion, optimizer, epoch, print_freq, plot_data, gpu):\n",
    "    batch_time = AverageMeter()\n",
    "    loss_meter = AverageMeter()\n",
    "\n",
    "    model.train()\n",
    "    \n",
    "    end = time.time()\n",
    "    for i, (img_id, image, target) in enumerate(train_loader):\n",
    "        target_var = torch.autograd.Variable(target).cuda(GPU)\n",
    "        image_var = torch.autograd.Variable(image)\n",
    "\n",
    "        # compute output\n",
    "        output = model(image_var)\n",
    "        loss = criterion(output, target_var)\n",
    "        \n",
    "        # measure and record loss\n",
    "        # loss.data.item() => loss value\n",
    "        # image.size()[0] => batch size\n",
    "        loss_meter.update(loss.data.item(), image.size()[0])\n",
    "\n",
    "        # compute gradient and do SGD step\n",
    "        optimizer.zero_grad()\n",
    "        loss.backward()\n",
    "        optimizer.step()\n",
    "        \n",
    "        # measure elapsed time\n",
    "        batch_time.update(time.time() - end)\n",
    "        end = time.time()\n",
    "        \n",
    "        if i % print_freq == 0:\n",
    "            logger.info(f'Epoch: [{epoch}] | Train Batch: [{i}/{len(train_loader)}]')\n",
    "            logger.info(f'Train Loss: [loss.val={loss_meter.val}] [loss.avg={loss_meter.avg}]')\n",
    "            logger.info(f'Train Batch Time: [{batch_time.avg}]')\n",
    "            \n",
    "    plot_data['train_loss'][plot_data['epoch']] = loss_meter.avg\n",
    "    \n",
    "    return plot_data"
   ]
  },
  {
   "cell_type": "code",
   "execution_count": 26,
   "id": "7499062f",
   "metadata": {},
   "outputs": [],
   "source": [
    "def validate(val_loader, model, criterion, print_freq, plot_data, gpu):\n",
    "    with torch.no_grad():\n",
    "        batch_time = AverageMeter()\n",
    "        loss_meter = AverageMeter()\n",
    "\n",
    "        # switch to evaluate mode\n",
    "        model.eval()\n",
    "\n",
    "        end = time.time()\n",
    "        for i, (img_id, image, target) in enumerate(val_loader):\n",
    "            target_var = torch.autograd.Variable(target).cuda(GPU)\n",
    "            image_var = torch.autograd.Variable(image)\n",
    "\n",
    "            # compute output\n",
    "            output = model(image_var)\n",
    "            loss = criterion(output, target_var)\n",
    "\n",
    "            # measure and record loss\n",
    "            loss_meter.update(loss.data.item(), image.size()[0])\n",
    "\n",
    "            # measure elapsed time\n",
    "            batch_time.update(time.time() - end)\n",
    "            end = time.time()\n",
    "            \n",
    "            if i % print_freq == 0:\n",
    "                logger.info(f'Val Batch: [{i}/{len(val_loader)}]')\n",
    "                logger.info(f'Val Loss: [loss.val={loss_meter.val}] [loss.avg={loss_meter.avg}]')\n",
    "                logger.info(f'Val Batch Time: [{batch_time.avg}]')\n",
    "        plot_data['val_loss'][plot_data['epoch']] = loss_meter.avg\n",
    "\n",
    "    return plot_data"
   ]
  },
  {
   "cell_type": "code",
   "execution_count": 27,
   "id": "107342a2",
   "metadata": {},
   "outputs": [],
   "source": [
    "def save_checkpoint(model, filename):\n",
    "    logger.info('Saving model checkpoint')\n",
    "    torch.save(model.state_dict(), filename + '.pth.tar')"
   ]
  },
  {
   "cell_type": "code",
   "execution_count": 28,
   "id": "22fa6f1b",
   "metadata": {},
   "outputs": [
    {
     "name": "stderr",
     "output_type": "stream",
     "text": [
      "Epoch: [0] | Train Batch: [0/5]\n",
      "Train Loss: [loss.val=0.9283832311630249] [loss.avg=0.9283832311630249]\n",
      "Train Batch Time: [5.211951494216919]\n",
      "Epoch: [0] | Train Batch: [1/5]\n",
      "Train Loss: [loss.val=1.6995958089828491] [loss.avg=1.313989520072937]\n",
      "Train Batch Time: [2.6700708866119385]\n",
      "Epoch: [0] | Train Batch: [2/5]\n",
      "Train Loss: [loss.val=1.2134062051773071] [loss.avg=1.2804617484410603]\n",
      "Train Batch Time: [1.826538324356079]\n",
      "Epoch: [0] | Train Batch: [3/5]\n",
      "Train Loss: [loss.val=1.0026259422302246] [loss.avg=1.2110027968883514]\n",
      "Train Batch Time: [1.4048112034797668]\n",
      "Epoch: [0] | Train Batch: [4/5]\n",
      "Train Loss: [loss.val=0.9079893231391907] [loss.avg=1.1504001021385193]\n",
      "Train Batch Time: [1.1516962051391602]\n",
      "Val Batch: [0/5]\n",
      "Val Loss: [loss.val=223665337663488.0] [loss.avg=223665337663488.0]\n",
      "Val Batch Time: [0.13051247596740723]\n",
      "Val Batch: [1/5]\n",
      "Val Loss: [loss.val=230128625909760.0] [loss.avg=226896981786624.0]\n",
      "Val Batch Time: [0.08465075492858887]\n",
      "Val Batch: [2/5]\n",
      "Val Loss: [loss.val=195439198470144.0] [loss.avg=216411054014464.0]\n",
      "Val Batch Time: [0.06902559598286946]\n",
      "Val Batch: [3/5]\n",
      "Val Loss: [loss.val=186964741455872.0] [loss.avg=209049475874816.0]\n",
      "Val Batch Time: [0.06113255023956299]\n",
      "Val Batch: [4/5]\n",
      "Val Loss: [loss.val=243735803723776.0] [loss.avg=215986741444608.0]\n",
      "Val Batch Time: [0.05637173652648926]\n",
      "Epoch: [1] | Train Batch: [0/5]\n",
      "Train Loss: [loss.val=0.8588310480117798] [loss.avg=0.8588310480117798]\n",
      "Train Batch Time: [0.22855162620544434]\n",
      "Epoch: [1] | Train Batch: [1/5]\n",
      "Train Loss: [loss.val=0.8267647624015808] [loss.avg=0.8427979052066803]\n",
      "Train Batch Time: [0.18376100063323975]\n",
      "Epoch: [1] | Train Batch: [2/5]\n",
      "Train Loss: [loss.val=0.7757071852684021] [loss.avg=0.8204343318939209]\n",
      "Train Batch Time: [0.16881855328877768]\n",
      "Epoch: [1] | Train Batch: [3/5]\n",
      "Train Loss: [loss.val=0.8067861199378967] [loss.avg=0.8170222789049149]\n",
      "Train Batch Time: [0.16143900156021118]\n",
      "Epoch: [1] | Train Batch: [4/5]\n",
      "Train Loss: [loss.val=0.7634432315826416] [loss.avg=0.8063064694404602]\n",
      "Train Batch Time: [0.15713295936584473]\n",
      "Val Batch: [0/5]\n",
      "Val Loss: [loss.val=63327268864.0] [loss.avg=63327268864.0]\n",
      "Val Batch Time: [0.13889002799987793]\n",
      "Val Batch: [1/5]\n",
      "Val Loss: [loss.val=71816904704.0] [loss.avg=67572086784.0]\n",
      "Val Batch Time: [0.08887195587158203]\n",
      "Val Batch: [2/5]\n",
      "Val Loss: [loss.val=84563492864.0] [loss.avg=73235888810.66667]\n",
      "Val Batch Time: [0.07189408938090007]\n",
      "Val Batch: [3/5]\n",
      "Val Loss: [loss.val=37873471488.0] [loss.avg=64395284480.0]\n",
      "Val Batch Time: [0.06321078538894653]\n",
      "Val Batch: [4/5]\n",
      "Val Loss: [loss.val=69354872832.0] [loss.avg=65387202150.4]\n",
      "Val Batch Time: [0.05806374549865723]\n",
      "Epoch: [2] | Train Batch: [0/5]\n",
      "Train Loss: [loss.val=0.7579676508903503] [loss.avg=0.7579676508903503]\n",
      "Train Batch Time: [0.24085545539855957]\n",
      "Epoch: [2] | Train Batch: [1/5]\n",
      "Train Loss: [loss.val=0.7495989203453064] [loss.avg=0.7537832856178284]\n",
      "Train Batch Time: [0.19016849994659424]\n",
      "Epoch: [2] | Train Batch: [2/5]\n",
      "Train Loss: [loss.val=0.7734741568565369] [loss.avg=0.7603469093640646]\n",
      "Train Batch Time: [0.17344792683919272]\n",
      "Epoch: [2] | Train Batch: [3/5]\n",
      "Train Loss: [loss.val=0.7401195168495178] [loss.avg=0.7552900612354279]\n",
      "Train Batch Time: [0.16490286588668823]\n",
      "Epoch: [2] | Train Batch: [4/5]\n",
      "Train Loss: [loss.val=0.7245978116989136] [loss.avg=0.749151611328125]\n",
      "Train Batch Time: [0.15998525619506837]\n",
      "Val Batch: [0/5]\n",
      "Val Loss: [loss.val=14259670.0] [loss.avg=14259670.0]\n",
      "Val Batch Time: [0.1355574131011963]\n",
      "Val Batch: [1/5]\n",
      "Val Loss: [loss.val=15904068.0] [loss.avg=15081869.0]\n",
      "Val Batch Time: [0.08689630031585693]\n",
      "Val Batch: [2/5]\n",
      "Val Loss: [loss.val=14204856.0] [loss.avg=14789531.333333334]\n",
      "Val Batch Time: [0.07046731313069661]\n",
      "Val Batch: [3/5]\n",
      "Val Loss: [loss.val=19038564.0] [loss.avg=15851789.5]\n",
      "Val Batch Time: [0.062194764614105225]\n",
      "Val Batch: [4/5]\n",
      "Val Loss: [loss.val=15130262.0] [loss.avg=15707484.0]\n",
      "Val Batch Time: [0.05713186264038086]\n",
      "Epoch: [3] | Train Batch: [0/5]\n",
      "Train Loss: [loss.val=0.6904070377349854] [loss.avg=0.6904070377349854]\n",
      "Train Batch Time: [0.23516154289245605]\n",
      "Epoch: [3] | Train Batch: [1/5]\n",
      "Train Loss: [loss.val=0.7056748270988464] [loss.avg=0.6980409324169159]\n",
      "Train Batch Time: [0.18731379508972168]\n",
      "Epoch: [3] | Train Batch: [2/5]\n",
      "Train Loss: [loss.val=0.7055248618125916] [loss.avg=0.7005355755488077]\n",
      "Train Batch Time: [0.17140483856201172]\n",
      "Epoch: [3] | Train Batch: [3/5]\n",
      "Train Loss: [loss.val=0.6908512115478516] [loss.avg=0.6981144845485687]\n",
      "Train Batch Time: [0.16342735290527344]\n",
      "Epoch: [3] | Train Batch: [4/5]\n",
      "Train Loss: [loss.val=0.7011376023292542] [loss.avg=0.6987191081047058]\n",
      "Train Batch Time: [0.15848631858825685]\n",
      "Val Batch: [0/5]\n",
      "Val Loss: [loss.val=128865.515625] [loss.avg=128865.515625]\n",
      "Val Batch Time: [0.13128376007080078]\n",
      "Val Batch: [1/5]\n",
      "Val Loss: [loss.val=33481.51171875] [loss.avg=81173.513671875]\n",
      "Val Batch Time: [0.08536422252655029]\n",
      "Val Batch: [2/5]\n",
      "Val Loss: [loss.val=80224.1953125] [loss.avg=80857.07421875]\n",
      "Val Batch Time: [0.06954479217529297]\n",
      "Val Batch: [3/5]\n",
      "Val Loss: [loss.val=85903.9375] [loss.avg=82118.7900390625]\n",
      "Val Batch Time: [0.06151813268661499]\n",
      "Val Batch: [4/5]\n",
      "Val Loss: [loss.val=47371.76171875] [loss.avg=75169.384375]\n",
      "Val Batch Time: [0.05664591789245606]\n",
      "Epoch: [4] | Train Batch: [0/5]\n",
      "Train Loss: [loss.val=0.7007536888122559] [loss.avg=0.7007536888122559]\n",
      "Train Batch Time: [0.23401498794555664]\n",
      "Epoch: [4] | Train Batch: [1/5]\n",
      "Train Loss: [loss.val=0.695492684841156] [loss.avg=0.6981231868267059]\n",
      "Train Batch Time: [0.18652117252349854]\n",
      "Epoch: [4] | Train Batch: [2/5]\n",
      "Train Loss: [loss.val=0.6898869872093201] [loss.avg=0.695377786954244]\n",
      "Train Batch Time: [0.17090447743733725]\n",
      "Epoch: [4] | Train Batch: [3/5]\n",
      "Train Loss: [loss.val=0.6969955563545227] [loss.avg=0.6957822293043137]\n",
      "Train Batch Time: [0.1629520058631897]\n",
      "Epoch: [4] | Train Batch: [4/5]\n",
      "Train Loss: [loss.val=0.6923213005065918] [loss.avg=0.6950900435447693]\n",
      "Train Batch Time: [0.15832943916320802]\n",
      "Val Batch: [0/5]\n",
      "Val Loss: [loss.val=1054.9605712890625] [loss.avg=1054.9605712890625]\n",
      "Val Batch Time: [0.13009858131408691]\n",
      "Val Batch: [1/5]\n",
      "Val Loss: [loss.val=1398.1578369140625] [loss.avg=1226.5592041015625]\n",
      "Val Batch Time: [0.08432888984680176]\n",
      "Val Batch: [2/5]\n",
      "Val Loss: [loss.val=1623.36572265625] [loss.avg=1358.8280436197917]\n",
      "Val Batch Time: [0.06869308153788249]\n",
      "Val Batch: [3/5]\n",
      "Val Loss: [loss.val=2556.8916015625] [loss.avg=1658.3439331054688]\n",
      "Val Batch Time: [0.06090366840362549]\n",
      "Val Batch: [4/5]\n",
      "Val Loss: [loss.val=1473.3857421875] [loss.avg=1621.352294921875]\n",
      "Val Batch Time: [0.05625276565551758]\n",
      "Epoch: [5] | Train Batch: [0/5]\n",
      "Train Loss: [loss.val=0.6876183152198792] [loss.avg=0.6876183152198792]\n",
      "Train Batch Time: [0.22166943550109863]\n",
      "Epoch: [5] | Train Batch: [1/5]\n",
      "Train Loss: [loss.val=0.6889736652374268] [loss.avg=0.688295990228653]\n",
      "Train Batch Time: [0.18043386936187744]\n",
      "Epoch: [5] | Train Batch: [2/5]\n",
      "Train Loss: [loss.val=0.6810560822486877] [loss.avg=0.6858826875686646]\n",
      "Train Batch Time: [0.16680010159810385]\n",
      "Epoch: [5] | Train Batch: [3/5]\n",
      "Train Loss: [loss.val=0.6894926428794861] [loss.avg=0.6867851763963699]\n",
      "Train Batch Time: [0.1598709225654602]\n",
      "Epoch: [5] | Train Batch: [4/5]\n",
      "Train Loss: [loss.val=0.6883503794670105] [loss.avg=0.687098217010498]\n",
      "Train Batch Time: [0.15574178695678711]\n",
      "Val Batch: [0/5]\n",
      "Val Loss: [loss.val=135.8989715576172] [loss.avg=135.8989715576172]\n",
      "Val Batch Time: [0.14743709564208984]\n",
      "Val Batch: [1/5]\n",
      "Val Loss: [loss.val=51.80412673950195] [loss.avg=93.85154914855957]\n",
      "Val Batch Time: [0.09286367893218994]\n",
      "Val Batch: [2/5]\n",
      "Val Loss: [loss.val=217.2259521484375] [loss.avg=134.9763501485189]\n",
      "Val Batch Time: [0.07430815696716309]\n",
      "Val Batch: [3/5]\n",
      "Val Loss: [loss.val=124.52200317382812] [loss.avg=132.3627634048462]\n",
      "Val Batch Time: [0.06504899263381958]\n",
      "Val Batch: [4/5]\n",
      "Val Loss: [loss.val=80.37609100341797] [loss.avg=121.96542892456054]\n",
      "Val Batch Time: [0.05953240394592285]\n",
      "New best model by [Val Loss = 121.96542892456054]\n",
      "Saving model checkpoint\n",
      "Epoch: [6] | Train Batch: [0/5]\n",
      "Train Loss: [loss.val=0.6899015307426453] [loss.avg=0.6899015307426453]\n",
      "Train Batch Time: [0.22594904899597168]\n",
      "Epoch: [6] | Train Batch: [1/5]\n",
      "Train Loss: [loss.val=0.6910829544067383] [loss.avg=0.6904922425746918]\n",
      "Train Batch Time: [0.18256628513336182]\n"
     ]
    },
    {
     "name": "stderr",
     "output_type": "stream",
     "text": [
      "Epoch: [6] | Train Batch: [2/5]\n",
      "Train Loss: [loss.val=0.6866931319236755] [loss.avg=0.6892258723576864]\n",
      "Train Batch Time: [0.1682896614074707]\n",
      "Epoch: [6] | Train Batch: [3/5]\n",
      "Train Loss: [loss.val=0.6860895156860352] [loss.avg=0.6884417831897736]\n",
      "Train Batch Time: [0.16103583574295044]\n",
      "Epoch: [6] | Train Batch: [4/5]\n",
      "Train Loss: [loss.val=0.6750159859657288] [loss.avg=0.6857566237449646]\n",
      "Train Batch Time: [0.1565732479095459]\n",
      "Val Batch: [0/5]\n",
      "Val Loss: [loss.val=2.889479160308838] [loss.avg=2.889479160308838]\n",
      "Val Batch Time: [0.13636422157287598]\n",
      "Val Batch: [1/5]\n",
      "Val Loss: [loss.val=9.192033767700195] [loss.avg=6.040756464004517]\n",
      "Val Batch Time: [0.08733630180358887]\n",
      "Val Batch: [2/5]\n",
      "Val Loss: [loss.val=18.197277069091797] [loss.avg=10.09292999903361]\n",
      "Val Batch Time: [0.0707399845123291]\n",
      "Val Batch: [3/5]\n",
      "Val Loss: [loss.val=23.187192916870117] [loss.avg=13.366495728492737]\n",
      "Val Batch Time: [0.06242871284484863]\n",
      "Val Batch: [4/5]\n",
      "Val Loss: [loss.val=5.765793323516846] [loss.avg=11.84635524749756]\n",
      "Val Batch Time: [0.05747113227844238]\n",
      "New best model by [Val Loss = 11.84635524749756]\n",
      "Saving model checkpoint\n",
      "Epoch: [7] | Train Batch: [0/5]\n",
      "Train Loss: [loss.val=0.6836478114128113] [loss.avg=0.6836478114128113]\n",
      "Train Batch Time: [0.22880768775939941]\n",
      "Epoch: [7] | Train Batch: [1/5]\n",
      "Train Loss: [loss.val=0.678365170955658] [loss.avg=0.6810064911842346]\n",
      "Train Batch Time: [0.18409037590026855]\n",
      "Epoch: [7] | Train Batch: [2/5]\n",
      "Train Loss: [loss.val=0.6845180988311768] [loss.avg=0.6821770270665487]\n",
      "Train Batch Time: [0.16912428538004556]\n",
      "Epoch: [7] | Train Batch: [3/5]\n",
      "Train Loss: [loss.val=0.6878169178962708] [loss.avg=0.6835869997739792]\n",
      "Train Batch Time: [0.16168737411499023]\n",
      "Epoch: [7] | Train Batch: [4/5]\n",
      "Train Loss: [loss.val=0.6898013949394226] [loss.avg=0.6848298788070679]\n",
      "Train Batch Time: [0.15722041130065917]\n",
      "Val Batch: [0/5]\n",
      "Val Loss: [loss.val=3.3977420330047607] [loss.avg=3.3977420330047607]\n",
      "Val Batch Time: [0.13447117805480957]\n",
      "Val Batch: [1/5]\n",
      "Val Loss: [loss.val=0.9434601068496704] [loss.avg=2.1706010699272156]\n",
      "Val Batch Time: [0.0864415168762207]\n",
      "Val Batch: [2/5]\n",
      "Val Loss: [loss.val=1.3886040449142456] [loss.avg=1.9099353949228923]\n",
      "Val Batch Time: [0.0701588789621989]\n",
      "Val Batch: [3/5]\n",
      "Val Loss: [loss.val=2.654637575149536] [loss.avg=2.0961109399795532]\n",
      "Val Batch Time: [0.06199908256530762]\n",
      "Val Batch: [4/5]\n",
      "Val Loss: [loss.val=1.4320452213287354] [loss.avg=1.9632977962493896]\n",
      "Val Batch Time: [0.05715212821960449]\n",
      "New best model by [Val Loss = 1.9632977962493896]\n",
      "Saving model checkpoint\n",
      "Epoch: [8] | Train Batch: [0/5]\n",
      "Train Loss: [loss.val=0.6836208701133728] [loss.avg=0.6836208701133728]\n",
      "Train Batch Time: [0.22399401664733887]\n",
      "Epoch: [8] | Train Batch: [1/5]\n",
      "Train Loss: [loss.val=0.6911193132400513] [loss.avg=0.687370091676712]\n",
      "Train Batch Time: [0.18183302879333496]\n",
      "Epoch: [8] | Train Batch: [2/5]\n",
      "Train Loss: [loss.val=0.6880378723144531] [loss.avg=0.6875926852226257]\n",
      "Train Batch Time: [0.1675879160563151]\n",
      "Epoch: [8] | Train Batch: [3/5]\n",
      "Train Loss: [loss.val=0.6871258020401001] [loss.avg=0.6874759644269943]\n",
      "Train Batch Time: [0.16037052869796753]\n",
      "Epoch: [8] | Train Batch: [4/5]\n",
      "Train Loss: [loss.val=0.6691348552703857] [loss.avg=0.6838077425956726]\n",
      "Train Batch Time: [0.15625033378601075]\n",
      "Val Batch: [0/5]\n",
      "Val Loss: [loss.val=0.8707889914512634] [loss.avg=0.8707889914512634]\n",
      "Val Batch Time: [0.13341236114501953]\n",
      "Val Batch: [1/5]\n",
      "Val Loss: [loss.val=0.6890873908996582] [loss.avg=0.7799381911754608]\n",
      "Val Batch Time: [0.08611118793487549]\n",
      "Val Batch: [2/5]\n",
      "Val Loss: [loss.val=1.2921665906906128] [loss.avg=0.9506809910138448]\n",
      "Val Batch Time: [0.06983256340026855]\n",
      "Val Batch: [3/5]\n",
      "Val Loss: [loss.val=0.7452413439750671] [loss.avg=0.8993210792541504]\n",
      "Val Batch Time: [0.0616530179977417]\n",
      "Val Batch: [4/5]\n",
      "Val Loss: [loss.val=0.7122219800949097] [loss.avg=0.8619012594223022]\n",
      "Val Batch Time: [0.056741762161254886]\n",
      "New best model by [Val Loss = 0.8619012594223022]\n",
      "Saving model checkpoint\n",
      "Epoch: [9] | Train Batch: [0/5]\n",
      "Train Loss: [loss.val=0.6816362142562866] [loss.avg=0.6816362142562866]\n",
      "Train Batch Time: [0.2273108959197998]\n",
      "Epoch: [9] | Train Batch: [1/5]\n",
      "Train Loss: [loss.val=0.6843205094337463] [loss.avg=0.6829783618450165]\n",
      "Train Batch Time: [0.1832963228225708]\n",
      "Epoch: [9] | Train Batch: [2/5]\n",
      "Train Loss: [loss.val=0.6807127594947815] [loss.avg=0.6822231610616049]\n",
      "Train Batch Time: [0.1688385009765625]\n",
      "Epoch: [9] | Train Batch: [3/5]\n",
      "Train Loss: [loss.val=0.6862978935241699] [loss.avg=0.6832418441772461]\n",
      "Train Batch Time: [0.16140609979629517]\n",
      "Epoch: [9] | Train Batch: [4/5]\n",
      "Train Loss: [loss.val=0.6861972808837891] [loss.avg=0.6838329315185547]\n",
      "Train Batch Time: [0.15697941780090333]\n",
      "Val Batch: [0/5]\n",
      "Val Loss: [loss.val=0.6855252981185913] [loss.avg=0.6855252981185913]\n",
      "Val Batch Time: [0.13222956657409668]\n",
      "Val Batch: [1/5]\n",
      "Val Loss: [loss.val=0.6723769307136536] [loss.avg=0.6789511144161224]\n",
      "Val Batch Time: [0.08541488647460938]\n",
      "Val Batch: [2/5]\n",
      "Val Loss: [loss.val=0.7319279909133911] [loss.avg=0.6966100732485453]\n",
      "Val Batch Time: [0.06929922103881836]\n",
      "Val Batch: [3/5]\n",
      "Val Loss: [loss.val=0.7489396929740906] [loss.avg=0.7096924781799316]\n",
      "Val Batch Time: [0.06141239404678345]\n",
      "Val Batch: [4/5]\n",
      "Val Loss: [loss.val=0.6849890351295471] [loss.avg=0.7047517895698547]\n",
      "Val Batch Time: [0.056596231460571286]\n",
      "New best model by [Val Loss = 0.7047517895698547]\n",
      "Saving model checkpoint\n"
     ]
    },
    {
     "data": {
      "image/png": "[encoded data removed]",
      "text/plain": [
       "<Figure size 432x288 with 2 Axes>"
      ]
     },
     "metadata": {
      "needs_background": "light"
     },
     "output_type": "display_data"
    }
   ],
   "source": [
    "plot_data = {}\n",
    "plot_data['train_loss'] = zeros(EPOCHS)\n",
    "plot_data['val_loss'] = zeros(EPOCHS)\n",
    "plot_data['epoch'] = 0\n",
    "\n",
    "it_axes = arange(EPOCHS)\n",
    "_, ax1 = subplots()\n",
    "ax2 = ax1.twinx()\n",
    "ax1.set_xlabel('Epochs')\n",
    "ax1.set_ylabel('Train Loss (r), Val Loss (y)')\n",
    "ax1.set_ylim([0, 2])\n",
    "best_loss = 1000\n",
    "\n",
    "\n",
    "for epoch in range(EPOCHS):\n",
    "    plot_data['epoch'] = epoch\n",
    "    # train for one epoch\n",
    "    plot_data = train(train_loader, model, criterion, optimizer, epoch, print_freq, plot_data, GPU)\n",
    "    # evaluate on validation set\n",
    "    plot_data = validate(val_loader, model, criterion, print_freq, plot_data, GPU)\n",
    "    \n",
    "    # remember best model and save checkpoint\n",
    "    is_best = plot_data['val_loss'][epoch] < best_loss\n",
    "    if is_best:\n",
    "        val_loss = plot_data['val_loss'][epoch]\n",
    "        logger.info(f'New best model by [Val Loss = {val_loss}]')\n",
    "        best_loss = plot_data['val_loss'][epoch]\n",
    "        filename = f'{DATASET_ROOT}/models/multi-modal-epoch-{epoch}'\n",
    "        save_checkpoint(model, filename)\n",
    "    \n",
    "    ax1.plot(it_axes[0: epoch+1], plot_data['train_loss'][0: epoch+1], 'r')\n",
    "    ax1.plot(it_axes[0: epoch+1], plot_data['val_loss'][0: epoch+1], 'y')\n",
    "    plt.grid(True)\n",
    "    plt.title('Multi-Modal CNN')\n",
    "    \n",
    "    # save plot to disk\n",
    "    title = f'{DATASET_ROOT}plots/epoch_{epoch}.jpg'\n",
    "    savefig(title, bbox_inches='tight')"
   ]
  },
  {
   "cell_type": "code",
   "execution_count": null,
   "id": "57127858",
   "metadata": {},
   "outputs": [],
   "source": []
  }
 ],
 "metadata": {
  "kernelspec": {
   "display_name": "conda_pytorch_p36",
   "language": "python",
   "name": "conda_pytorch_p36"
  },
  "language_info": {
   "codemirror_mode": {
    "name": "ipython",
    "version": 3
   },
   "file_extension": ".py",
   "mimetype": "text/x-python",
   "name": "python",
   "nbconvert_exporter": "python",
   "pygments_lexer": "ipython3",
   "version": "3.6.13"
  }
 },
 "nbformat": 4,
 "nbformat_minor": 5
}
