{
 "cells": [
  {
   "cell_type": "markdown",
   "id": "60d1598f",
   "metadata": {},
   "source": [
    "#### Imports"
   ]
  },
  {
   "cell_type": "code",
   "execution_count": 1,
   "id": "e2856a7b",
   "metadata": {},
   "outputs": [],
   "source": [
    "from pylab import zeros, arange, subplots, plt, savefig\n",
    "from torch.utils.data import Dataset, DataLoader\n",
    "import torchvision.transforms as transforms\n",
    "import torch.backends.cudnn as cudnn\n",
    "import torchvision.models as models\n",
    "from PIL import Image\n",
    "import numpy as np\n",
    "import logging\n",
    "import torch\n",
    "import time"
   ]
  },
  {
   "cell_type": "markdown",
   "id": "9cc42e6e",
   "metadata": {},
   "source": [
    "#### Setup logger"
   ]
  },
  {
   "cell_type": "code",
   "execution_count": 2,
   "id": "51a7f0af",
   "metadata": {},
   "outputs": [],
   "source": [
    "logger = logging.getLogger(__name__)\n",
    "logger.setLevel(logging.INFO)\n",
    "logger.addHandler(logging.StreamHandler())"
   ]
  },
  {
   "cell_type": "code",
   "execution_count": 3,
   "id": "198f0e7d",
   "metadata": {},
   "outputs": [
    {
     "name": "stderr",
     "output_type": "stream",
     "text": [
      "Using torch: 1.4.0\n"
     ]
    }
   ],
   "source": [
    "logger.info(f'Using torch: {torch.__version__}')"
   ]
  },
  {
   "cell_type": "markdown",
   "id": "e1164148",
   "metadata": {},
   "source": [
    "#### Essentials"
   ]
  },
  {
   "cell_type": "code",
   "execution_count": 4,
   "id": "1d2a5cbe",
   "metadata": {},
   "outputs": [],
   "source": [
    "DATASET_ROOT = './data/'\n",
    "CAPTIONS_TRAIN_SET_PATH = 'embedding/caption_embedding.csv'\n",
    "CAPTIONS_VALIDATION_SET_PATH = 'embedding/caption_embedding.csv'"
   ]
  },
  {
   "cell_type": "code",
   "execution_count": 5,
   "id": "ab170961",
   "metadata": {},
   "outputs": [],
   "source": [
    "EMBEDDING_DIMENSIONALITY = 1000 # number of CNN outputs = dimensionality of the captions word2vec model\n",
    "BATCH_SIZE = 4 \n",
    "EPOCHS = 10\n",
    "WORKERS = 4 # number of data loading workers = CPU cores\n",
    "GPU = 0\n",
    "LR = 0.01 \n",
    "MOMENTUM = 0.9\n",
    "WEIGHT_DECAY = 1e-4"
   ]
  },
  {
   "cell_type": "code",
   "execution_count": 6,
   "id": "f0f14d4c",
   "metadata": {},
   "outputs": [],
   "source": [
    "cudnn.benchmark = True"
   ]
  },
  {
   "cell_type": "markdown",
   "id": "b6e8df42",
   "metadata": {},
   "source": [
    "#### Define model"
   ]
  },
  {
   "cell_type": "code",
   "execution_count": 7,
   "id": "d83a6bc9",
   "metadata": {},
   "outputs": [],
   "source": [
    "class Model(torch.nn.Module):\n",
    "    def __init__(self, embedding_dimensionality):\n",
    "        super(Model, self).__init__()\n",
    "        self.cnn = models.resnet50(pretrained=True, num_classes=embedding_dimensionality)\n",
    "\n",
    "    def forward(self, image):\n",
    "        x = self.cnn(image)\n",
    "        return x"
   ]
  },
  {
   "cell_type": "markdown",
   "id": "532e079d",
   "metadata": {},
   "source": [
    "https://pytorch.org/docs/stable/generated/torch.nn.BCEWithLogitsLoss.html"
   ]
  },
  {
   "cell_type": "code",
   "execution_count": 8,
   "id": "3eb760d8",
   "metadata": {},
   "outputs": [],
   "source": [
    "criterion = torch.nn.BCEWithLogitsLoss().cuda(GPU)"
   ]
  },
  {
   "cell_type": "markdown",
   "id": "9e14abd5",
   "metadata": {},
   "source": [
    "Create ResNet50 model with custom number of outputs"
   ]
  },
  {
   "cell_type": "code",
   "execution_count": 9,
   "id": "7379b79e",
   "metadata": {},
   "outputs": [],
   "source": [
    "model = Model(embedding_dimensionality=EMBEDDING_DIMENSIONALITY).cuda(GPU)"
   ]
  },
  {
   "cell_type": "code",
   "execution_count": 10,
   "id": "98fdc2ae",
   "metadata": {},
   "outputs": [
    {
     "data": {
      "text/plain": [
       "Adam (\n",
       "Parameter Group 0\n",
       "    amsgrad: False\n",
       "    betas: (0.9, 0.999)\n",
       "    eps: 1e-08\n",
       "    lr: 0.01\n",
       "    weight_decay: 0.0001\n",
       ")"
      ]
     },
     "execution_count": 10,
     "metadata": {},
     "output_type": "execute_result"
    }
   ],
   "source": [
    "optimizer = torch.optim.Adam(model.parameters(), lr=LR, weight_decay=WEIGHT_DECAY)\n",
    "optimizer"
   ]
  },
  {
   "cell_type": "code",
   "execution_count": 11,
   "id": "2663547b",
   "metadata": {},
   "outputs": [],
   "source": [
    "model = torch.nn.DataParallel(model, device_ids=[GPU])"
   ]
  },
  {
   "cell_type": "markdown",
   "id": "83438b43",
   "metadata": {},
   "source": [
    "#### Define and load datasets"
   ]
  },
  {
   "cell_type": "code",
   "execution_count": 12,
   "id": "d43e4bb2",
   "metadata": {},
   "outputs": [],
   "source": [
    "class Dataset(Dataset):\n",
    "    def __init__(self, root_dir, split, embedding_dimensionality):\n",
    "        self.root_dir = root_dir\n",
    "        self.split = split\n",
    "        self.embedding_dimensionality = embedding_dimensionality\n",
    "        self.preprocess = transforms.Compose([transforms.RandomHorizontalFlip(), \n",
    "                                              transforms.RandomCrop(224), \n",
    "                                              transforms.ToTensor(), \n",
    "                                              transforms.Normalize(mean=[0.485, 0.456, 0.406], \n",
    "                                                                   std=[0.229, 0.224, 0.225])])\n",
    "        logger.info(f'Loading data from {split}')\n",
    "        \n",
    "        # count number of images in the split\n",
    "        n = 0\n",
    "        with open(f'{DATASET_ROOT}{CAPTIONS_TRAIN_SET_PATH}', 'r') as f:\n",
    "            for _, _ in enumerate(f):\n",
    "                n += 1\n",
    "                \n",
    "        # placeholder for image ids - dummy bytes\n",
    "        self.img_ids = np.empty([n], dtype='S50')\n",
    "        # placeholder for captions embedding - [number of captions * vector dimension]\n",
    "        self.captions_embeddings = np.zeros((n, self.embedding_dimensionality), dtype=np.float32)\n",
    "        \n",
    "        # populate the placeholders \n",
    "        with open(f'{DATASET_ROOT}{CAPTIONS_TRAIN_SET_PATH}', 'r') as f:\n",
    "            for idx, row in enumerate(f):\n",
    "                uid, vec = row.split('\\t')\n",
    "                vec = vec.strip().split(',')\n",
    "                self.img_ids[idx] = uid\n",
    "                for i in range(self.embedding_dimensionality):\n",
    "                    self.captions_embeddings[idx, i] = float(vec[i])\n",
    "        logger.info(f'Caption embedding shape = {self.captions_embeddings[0].shape}')\n",
    "        logger.info('Data loading done.')\n",
    "\n",
    "    def __len__(self):\n",
    "        return len(self.img_ids)\n",
    "    \n",
    "    def __getitem__(self, idx):\n",
    "        img_id = self.img_ids[idx].decode('utf-8')\n",
    "        img = Image.open(f'{DATASET_ROOT}images/{img_id}.jpg').convert('RGB')\n",
    "        img_tensor = self.preprocess(img)\n",
    "        target_tensor = torch.from_numpy(self.captions_embeddings[idx, :])\n",
    "        return img_id, img_tensor, target_tensor"
   ]
  },
  {
   "cell_type": "code",
   "execution_count": 13,
   "id": "12932d5d",
   "metadata": {},
   "outputs": [
    {
     "name": "stderr",
     "output_type": "stream",
     "text": [
      "Loading data from embedding/caption_embedding.csv\n",
      "Caption embedding shape = (1000,)\n",
      "Data loading done.\n"
     ]
    }
   ],
   "source": [
    "train_dataset = Dataset(DATASET_ROOT, CAPTIONS_TRAIN_SET_PATH, EMBEDDING_DIMENSIONALITY)"
   ]
  },
  {
   "cell_type": "code",
   "execution_count": 14,
   "id": "0b120758",
   "metadata": {},
   "outputs": [
    {
     "data": {
      "text/plain": [
       "20"
      ]
     },
     "execution_count": 14,
     "metadata": {},
     "output_type": "execute_result"
    }
   ],
   "source": [
    "len(train_dataset)"
   ]
  },
  {
   "cell_type": "markdown",
   "id": "b414c413",
   "metadata": {},
   "source": [
    "Dataset object wraps - image id, image tensor and the caption embedding tensor."
   ]
  },
  {
   "cell_type": "code",
   "execution_count": 15,
   "id": "ce41e8ca",
   "metadata": {},
   "outputs": [],
   "source": [
    "image_id, image_tensor, caption_embedding_tensor = train_dataset[3]"
   ]
  },
  {
   "cell_type": "code",
   "execution_count": 16,
   "id": "2079b9b3",
   "metadata": {},
   "outputs": [
    {
     "data": {
      "text/plain": [
       "'1489658491986857252'"
      ]
     },
     "execution_count": 16,
     "metadata": {},
     "output_type": "execute_result"
    }
   ],
   "source": [
    "image_id"
   ]
  },
  {
   "cell_type": "code",
   "execution_count": 17,
   "id": "3f8f6903",
   "metadata": {},
   "outputs": [
    {
     "data": {
      "text/plain": [
       "torch.Size([3, 224, 224])"
      ]
     },
     "execution_count": 17,
     "metadata": {},
     "output_type": "execute_result"
    }
   ],
   "source": [
    "image_tensor.shape"
   ]
  },
  {
   "cell_type": "code",
   "execution_count": 18,
   "id": "7b5572ed",
   "metadata": {},
   "outputs": [
    {
     "data": {
      "text/plain": [
       "torch.Size([1000])"
      ]
     },
     "execution_count": 18,
     "metadata": {},
     "output_type": "execute_result"
    }
   ],
   "source": [
    "caption_embedding_tensor.shape"
   ]
  },
  {
   "cell_type": "code",
   "execution_count": 19,
   "id": "75f8a886",
   "metadata": {},
   "outputs": [
    {
     "name": "stderr",
     "output_type": "stream",
     "text": [
      "Loading data from embedding/caption_embedding.csv\n",
      "Caption embedding shape = (1000,)\n",
      "Data loading done.\n"
     ]
    }
   ],
   "source": [
    "val_dataset = Dataset(DATASET_ROOT, CAPTIONS_VALIDATION_SET_PATH, EMBEDDING_DIMENSIONALITY)"
   ]
  },
  {
   "cell_type": "markdown",
   "id": "a913a2e6",
   "metadata": {},
   "source": [
    "`pin_memory` allows better transferring of samples to GPU memory"
   ]
  },
  {
   "cell_type": "code",
   "execution_count": 20,
   "id": "a1e69841",
   "metadata": {},
   "outputs": [],
   "source": [
    "train_loader = torch.utils.data.DataLoader(train_dataset, \n",
    "                                           batch_size=BATCH_SIZE, \n",
    "                                           shuffle=True, \n",
    "                                           num_workers=WORKERS, \n",
    "                                           pin_memory=True)"
   ]
  },
  {
   "cell_type": "code",
   "execution_count": 21,
   "id": "a0f21ca4",
   "metadata": {},
   "outputs": [
    {
     "data": {
      "text/plain": [
       "{'dataset': <__main__.Dataset at 0x7f4dab0fc208>,\n",
       " 'num_workers': 4,\n",
       " 'pin_memory': True,\n",
       " 'timeout': 0,\n",
       " 'worker_init_fn': None,\n",
       " '_DataLoader__multiprocessing_context': None,\n",
       " '_dataset_kind': 0,\n",
       " 'batch_size': 4,\n",
       " 'drop_last': False,\n",
       " 'sampler': <torch.utils.data.sampler.RandomSampler at 0x7f4db01d1b00>,\n",
       " 'batch_sampler': <torch.utils.data.sampler.BatchSampler at 0x7f4db01d1b38>,\n",
       " 'collate_fn': <function torch.utils.data._utils.collate.default_collate(batch)>,\n",
       " '_DataLoader__initialized': True,\n",
       " '_IterableDataset_len_called': None}"
      ]
     },
     "execution_count": 21,
     "metadata": {},
     "output_type": "execute_result"
    }
   ],
   "source": [
    "train_loader.__dict__"
   ]
  },
  {
   "cell_type": "code",
   "execution_count": 22,
   "id": "52cda659",
   "metadata": {},
   "outputs": [],
   "source": [
    "val_loader = torch.utils.data.DataLoader(val_dataset, \n",
    "                                         batch_size=BATCH_SIZE, \n",
    "                                         shuffle=True, \n",
    "                                         num_workers=WORKERS, \n",
    "                                         pin_memory=True)"
   ]
  },
  {
   "cell_type": "markdown",
   "id": "7bc5e659",
   "metadata": {},
   "source": [
    "#### Monitor"
   ]
  },
  {
   "cell_type": "code",
   "execution_count": 23,
   "id": "a93fc42f",
   "metadata": {},
   "outputs": [],
   "source": [
    "class AverageMeter(object):\n",
    "    \"\"\"\n",
    "    Computes and stores the average and current value.\n",
    "    \"\"\"\n",
    "    def __init__(self):\n",
    "        self.reset()\n",
    "\n",
    "    def reset(self):\n",
    "        self.val = 0\n",
    "        self.avg = 0\n",
    "        self.sum = 0\n",
    "        self.count = 0\n",
    "\n",
    "    def update(self, val, n=1):\n",
    "        self.val = val\n",
    "        self.sum += val * n\n",
    "        self.count += n\n",
    "        self.avg = self.sum / self.count"
   ]
  },
  {
   "cell_type": "markdown",
   "id": "23ba8a5c",
   "metadata": {},
   "source": [
    "#### Train"
   ]
  },
  {
   "cell_type": "code",
   "execution_count": 24,
   "id": "cf5533cf",
   "metadata": {},
   "outputs": [],
   "source": [
    "print_freq = 1 # how frequently to print loss value to screen"
   ]
  },
  {
   "cell_type": "code",
   "execution_count": 25,
   "id": "b9065487",
   "metadata": {},
   "outputs": [],
   "source": [
    "def train(train_loader, model, criterion, optimizer, epoch, print_freq, plot_data, gpu):\n",
    "    batch_time = AverageMeter()\n",
    "    loss_meter = AverageMeter()\n",
    "\n",
    "    model.train()\n",
    "    \n",
    "    end = time.time()\n",
    "    for i, (img_id, image, target) in enumerate(train_loader):\n",
    "        target_var = torch.autograd.Variable(target).cuda(GPU)\n",
    "        image_var = torch.autograd.Variable(image)\n",
    "\n",
    "        # compute output\n",
    "        output = model(image_var)\n",
    "        loss = criterion(output, target_var)\n",
    "        \n",
    "        # measure and record loss\n",
    "        # loss.data.item() => loss value\n",
    "        # image.size()[0] => batch size\n",
    "        loss_meter.update(loss.data.item(), image.size()[0])\n",
    "\n",
    "        # compute gradient and do SGD step\n",
    "        optimizer.zero_grad()\n",
    "        loss.backward()\n",
    "        optimizer.step()\n",
    "        \n",
    "        # measure elapsed time\n",
    "        batch_time.update(time.time() - end)\n",
    "        end = time.time()\n",
    "        \n",
    "        if i % print_freq == 0:\n",
    "            logger.info(f'Epoch: [{epoch}][{i}/{len(train_loader)}]')\n",
    "            logger.info(f'Train Loss: [loss.val={loss_meter.val}] [loss.avg={loss_meter.avg}]')\n",
    "            logger.info(f'Train Batch Time: [{batch_time.avg}]')\n",
    "            \n",
    "    plot_data['train_loss'][plot_data['epoch']] = loss_meter.avg\n",
    "    \n",
    "    return plot_data"
   ]
  },
  {
   "cell_type": "code",
   "execution_count": 26,
   "id": "32b0086c",
   "metadata": {},
   "outputs": [],
   "source": [
    "def validate(val_loader, model, criterion, print_freq, plot_data, gpu):\n",
    "    with torch.no_grad():\n",
    "        batch_time = AverageMeter()\n",
    "        loss_meter = AverageMeter()\n",
    "\n",
    "        # switch to evaluate mode\n",
    "        model.eval()\n",
    "\n",
    "        end = time.time()\n",
    "        for i, (img_id, image, target) in enumerate(val_loader):\n",
    "            target_var = torch.autograd.Variable(target).cuda(GPU)\n",
    "            image_var = torch.autograd.Variable(image)\n",
    "\n",
    "            # compute output\n",
    "            output = model(image_var)\n",
    "            loss = criterion(output, target_var)\n",
    "\n",
    "            # measure and record loss\n",
    "            loss_meter.update(loss.data.item(), image.size()[0])\n",
    "\n",
    "            # measure elapsed time\n",
    "            batch_time.update(time.time() - end)\n",
    "            end = time.time()\n",
    "            \n",
    "            if i % print_freq == 0:\n",
    "                logger.info(f'[{i}/{len(val_loader)}]')\n",
    "                logger.info(f'Val Loss: [loss.val={loss_meter.val}] [loss.avg={loss_meter.avg}]')\n",
    "                logger.info(f'Val Batch Time: [{batch_time.avg}]')\n",
    "        plot_data['val_loss'][plot_data['epoch']] = loss_meter.avg\n",
    "\n",
    "    return plot_data"
   ]
  },
  {
   "cell_type": "code",
   "execution_count": 27,
   "id": "10c21efb",
   "metadata": {},
   "outputs": [],
   "source": [
    "def save_checkpoint(model, filename):\n",
    "    logger.info('Saving model checkpoint')\n",
    "    torch.save(model.state_dict(), filename + '.pth.tar')"
   ]
  },
  {
   "cell_type": "code",
   "execution_count": 28,
   "id": "842b86b5",
   "metadata": {},
   "outputs": [
    {
     "name": "stderr",
     "output_type": "stream",
     "text": [
      "Epoch: [0][0/5]\n",
      "Train Loss: [loss.val=0.9510985612869263] [loss.avg=0.9510985612869263]\n",
      "Train Batch Time: [5.1960155963897705]\n",
      "Epoch: [0][1/5]\n",
      "Train Loss: [loss.val=2.4202065467834473] [loss.avg=1.6856525540351868]\n",
      "Train Batch Time: [2.663144588470459]\n",
      "Epoch: [0][2/5]\n",
      "Train Loss: [loss.val=1.177139163017273] [loss.avg=1.5161480903625488]\n",
      "Train Batch Time: [1.8219885031382244]\n",
      "Epoch: [0][3/5]\n",
      "Train Loss: [loss.val=0.9223955869674683] [loss.avg=1.3677099645137787]\n",
      "Train Batch Time: [1.4012518525123596]\n",
      "Epoch: [0][4/5]\n",
      "Train Loss: [loss.val=0.8869084715843201] [loss.avg=1.2715496659278869]\n",
      "Train Batch Time: [1.1489355087280273]\n",
      "[0/5]\n",
      "Val Loss: [loss.val=592204854722560.0] [loss.avg=592204854722560.0]\n",
      "Val Batch Time: [0.12799453735351562]\n",
      "[1/5]\n",
      "Val Loss: [loss.val=551293949050880.0] [loss.avg=571749401886720.0]\n",
      "Val Batch Time: [0.08309066295623779]\n",
      "[2/5]\n",
      "Val Loss: [loss.val=595681966292992.0] [loss.avg=579726923355477.4]\n",
      "Val Batch Time: [0.06808114051818848]\n",
      "[3/5]\n",
      "Val Loss: [loss.val=405343645466624.0] [loss.avg=536131103883264.0]\n",
      "Val Batch Time: [0.06044059991836548]\n",
      "[4/5]\n",
      "Val Loss: [loss.val=685232235741184.0] [loss.avg=565951330254848.0]\n",
      "Val Batch Time: [0.05581111907958984]\n",
      "Epoch: [1][0/5]\n",
      "Train Loss: [loss.val=1.0130144357681274] [loss.avg=1.0130144357681274]\n",
      "Train Batch Time: [0.2206113338470459]\n",
      "Epoch: [1][1/5]\n",
      "Train Loss: [loss.val=0.9481549263000488] [loss.avg=0.9805846810340881]\n",
      "Train Batch Time: [0.17987656593322754]\n",
      "Epoch: [1][2/5]\n",
      "Train Loss: [loss.val=0.8979036211967468] [loss.avg=0.9530243277549744]\n",
      "Train Batch Time: [0.16674272219340006]\n",
      "Epoch: [1][3/5]\n",
      "Train Loss: [loss.val=0.826628565788269] [loss.avg=0.921425387263298]\n",
      "Train Batch Time: [0.1601746678352356]\n",
      "Epoch: [1][4/5]\n",
      "Train Loss: [loss.val=0.81771320104599] [loss.avg=0.9006829500198364]\n",
      "Train Batch Time: [0.15593867301940917]\n",
      "[0/5]\n",
      "Val Loss: [loss.val=21505812480.0] [loss.avg=21505812480.0]\n",
      "Val Batch Time: [0.1341691017150879]\n",
      "[1/5]\n",
      "Val Loss: [loss.val=22978781184.0] [loss.avg=22242296832.0]\n",
      "Val Batch Time: [0.08636665344238281]\n",
      "[2/5]\n",
      "Val Loss: [loss.val=17618939904.0] [loss.avg=20701177856.0]\n",
      "Val Batch Time: [0.06998411814371745]\n",
      "[3/5]\n",
      "Val Loss: [loss.val=16013228032.0] [loss.avg=19529190400.0]\n",
      "Val Batch Time: [0.061743319034576416]\n",
      "[4/5]\n",
      "Val Loss: [loss.val=16873841664.0] [loss.avg=18998120652.8]\n",
      "Val Batch Time: [0.05693130493164063]\n",
      "Epoch: [2][0/5]\n",
      "Train Loss: [loss.val=0.7768837213516235] [loss.avg=0.7768837213516235]\n",
      "Train Batch Time: [0.219862699508667]\n",
      "Epoch: [2][1/5]\n",
      "Train Loss: [loss.val=0.7283805012702942] [loss.avg=0.7526321113109589]\n",
      "Train Batch Time: [0.17962861061096191]\n",
      "Epoch: [2][2/5]\n",
      "Train Loss: [loss.val=0.7628538608551025] [loss.avg=0.7560393611590067]\n",
      "Train Batch Time: [0.16643134752909342]\n",
      "Epoch: [2][3/5]\n",
      "Train Loss: [loss.val=0.726635754108429] [loss.avg=0.7486884593963623]\n",
      "Train Batch Time: [0.15977764129638672]\n",
      "Epoch: [2][4/5]\n",
      "Train Loss: [loss.val=0.7189408540725708] [loss.avg=0.742738938331604]\n",
      "Train Batch Time: [0.155861759185791]\n",
      "[0/5]\n",
      "Val Loss: [loss.val=299976.15625] [loss.avg=299976.15625]\n",
      "Val Batch Time: [0.1388230323791504]\n",
      "[1/5]\n",
      "Val Loss: [loss.val=218756.125] [loss.avg=259366.140625]\n",
      "Val Batch Time: [0.08883869647979736]\n",
      "[2/5]\n",
      "Val Loss: [loss.val=283254.0] [loss.avg=267328.7604166667]\n",
      "Val Batch Time: [0.07187199592590332]\n",
      "[3/5]\n",
      "Val Loss: [loss.val=228421.71875] [loss.avg=257602.0]\n",
      "Val Batch Time: [0.0632132887840271]\n",
      "[4/5]\n",
      "Val Loss: [loss.val=289151.125] [loss.avg=263911.825]\n",
      "Val Batch Time: [0.05801482200622558]\n",
      "Epoch: [3][0/5]\n",
      "Train Loss: [loss.val=0.7191405892372131] [loss.avg=0.7191405892372131]\n",
      "Train Batch Time: [0.23669815063476562]\n",
      "Epoch: [3][1/5]\n",
      "Train Loss: [loss.val=0.7049260139465332] [loss.avg=0.7120333015918732]\n",
      "Train Batch Time: [0.1883763074874878]\n",
      "Epoch: [3][2/5]\n",
      "Train Loss: [loss.val=0.7101747393608093] [loss.avg=0.7114137808481852]\n",
      "Train Batch Time: [0.17256943384806314]\n",
      "Epoch: [3][3/5]\n",
      "Train Loss: [loss.val=0.6958812475204468] [loss.avg=0.7075306475162506]\n",
      "Train Batch Time: [0.16430598497390747]\n",
      "Epoch: [3][4/5]\n",
      "Train Loss: [loss.val=0.7102503180503845] [loss.avg=0.7080745816230773]\n",
      "Train Batch Time: [0.15940065383911134]\n",
      "[0/5]\n",
      "Val Loss: [loss.val=1691.14208984375] [loss.avg=1691.14208984375]\n",
      "Val Batch Time: [0.1375107765197754]\n",
      "[1/5]\n",
      "Val Loss: [loss.val=1306.9140625] [loss.avg=1499.028076171875]\n",
      "Val Batch Time: [0.0886009931564331]\n",
      "[2/5]\n",
      "Val Loss: [loss.val=1854.9046630859375] [loss.avg=1617.6536051432292]\n",
      "Val Batch Time: [0.07171312967936198]\n",
      "[3/5]\n",
      "Val Loss: [loss.val=1868.5450439453125] [loss.avg=1680.37646484375]\n",
      "Val Batch Time: [0.06317228078842163]\n",
      "[4/5]\n",
      "Val Loss: [loss.val=1721.1773681640625] [loss.avg=1688.5366455078124]\n",
      "Val Batch Time: [0.057924079895019534]\n",
      "Epoch: [4][0/5]\n",
      "Train Loss: [loss.val=0.6992158889770508] [loss.avg=0.6992158889770508]\n",
      "Train Batch Time: [0.22369170188903809]\n",
      "Epoch: [4][1/5]\n",
      "Train Loss: [loss.val=0.7018366456031799] [loss.avg=0.7005262672901154]\n",
      "Train Batch Time: [0.18158257007598877]\n",
      "Epoch: [4][2/5]\n",
      "Train Loss: [loss.val=0.6937674880027771] [loss.avg=0.6982733408610026]\n",
      "Train Batch Time: [0.16764394442240396]\n",
      "Epoch: [4][3/5]\n",
      "Train Loss: [loss.val=0.6934311389923096] [loss.avg=0.6970627903938293]\n",
      "Train Batch Time: [0.16056478023529053]\n",
      "Epoch: [4][4/5]\n",
      "Train Loss: [loss.val=0.6975440979003906] [loss.avg=0.6971590518951416]\n",
      "Train Batch Time: [0.15639567375183105]\n",
      "[0/5]\n",
      "Val Loss: [loss.val=137.29994201660156] [loss.avg=137.29994201660156]\n",
      "Val Batch Time: [0.1399068832397461]\n",
      "[1/5]\n",
      "Val Loss: [loss.val=137.7161865234375] [loss.avg=137.50806427001953]\n",
      "Val Batch Time: [0.08970308303833008]\n",
      "[2/5]\n",
      "Val Loss: [loss.val=178.8182830810547] [loss.avg=151.27813720703125]\n",
      "Val Batch Time: [0.07235185305277507]\n",
      "[3/5]\n",
      "Val Loss: [loss.val=128.0736541748047] [loss.avg=145.4770164489746]\n",
      "Val Batch Time: [0.06367027759552002]\n",
      "[4/5]\n",
      "Val Loss: [loss.val=143.283203125] [loss.avg=145.0382537841797]\n",
      "Val Batch Time: [0.058499813079833984]\n",
      "New best model by [Val Loss = 145.0382537841797]\n",
      "Saving model checkpoint\n",
      "Epoch: [5][0/5]\n",
      "Train Loss: [loss.val=0.6915939450263977] [loss.avg=0.6915939450263977]\n",
      "Train Batch Time: [0.23428702354431152]\n",
      "Epoch: [5][1/5]\n",
      "Train Loss: [loss.val=0.6917527318000793] [loss.avg=0.6916733384132385]\n",
      "Train Batch Time: [0.1869204044342041]\n",
      "Epoch: [5][2/5]\n",
      "Train Loss: [loss.val=0.6846379041671753] [loss.avg=0.6893281936645508]\n",
      "Train Batch Time: [0.1712327003479004]\n",
      "Epoch: [5][3/5]\n",
      "Train Loss: [loss.val=0.6929170489311218] [loss.avg=0.6902254074811935]\n",
      "Train Batch Time: [0.16336584091186523]\n",
      "Epoch: [5][4/5]\n",
      "Train Loss: [loss.val=0.6923992037773132] [loss.avg=0.6906601667404175]\n",
      "Train Batch Time: [0.1586167812347412]\n",
      "[0/5]\n",
      "Val Loss: [loss.val=9.642428398132324] [loss.avg=9.642428398132324]\n",
      "Val Batch Time: [0.13114595413208008]\n",
      "[1/5]\n",
      "Val Loss: [loss.val=24.574216842651367] [loss.avg=17.108322620391846]\n",
      "Val Batch Time: [0.08491086959838867]\n",
      "[2/5]\n",
      "Val Loss: [loss.val=11.375105857849121] [loss.avg=15.197250366210938]\n",
      "Val Batch Time: [0.06914615631103516]\n",
      "[3/5]\n",
      "Val Loss: [loss.val=19.827899932861328] [loss.avg=16.354912757873535]\n",
      "Val Batch Time: [0.06124991178512573]\n",
      "[4/5]\n",
      "Val Loss: [loss.val=20.958803176879883] [loss.avg=17.275690841674805]\n",
      "Val Batch Time: [0.05642313957214355]\n",
      "New best model by [Val Loss = 17.275690841674805]\n",
      "Saving model checkpoint\n",
      "Epoch: [6][0/5]\n",
      "Train Loss: [loss.val=0.6928911209106445] [loss.avg=0.6928911209106445]\n",
      "Train Batch Time: [0.21997356414794922]\n",
      "Epoch: [6][1/5]\n",
      "Train Loss: [loss.val=0.6819558143615723] [loss.avg=0.6874234676361084]\n",
      "Train Batch Time: [0.17985379695892334]\n",
      "Epoch: [6][2/5]\n",
      "Train Loss: [loss.val=0.6950990557670593] [loss.avg=0.689981997013092]\n",
      "Train Batch Time: [0.16634257634480795]\n",
      "Epoch: [6][3/5]\n",
      "Train Loss: [loss.val=0.69085693359375] [loss.avg=0.6902007311582565]\n",
      "Train Batch Time: [0.15976667404174805]\n",
      "Epoch: [6][4/5]\n",
      "Train Loss: [loss.val=0.6919114589691162] [loss.avg=0.6905428767204285]\n",
      "Train Batch Time: [0.15574126243591307]\n",
      "[0/5]\n",
      "Val Loss: [loss.val=1.8673597574234009] [loss.avg=1.8673597574234009]\n",
      "Val Batch Time: [0.1354377269744873]\n",
      "[1/5]\n",
      "Val Loss: [loss.val=1.4027743339538574] [loss.avg=1.6350670456886292]\n",
      "Val Batch Time: [0.08713984489440918]\n",
      "[2/5]\n",
      "Val Loss: [loss.val=2.2869415283203125] [loss.avg=1.8523585398991902]\n",
      "Val Batch Time: [0.07066734631856282]\n"
     ]
    },
    {
     "name": "stderr",
     "output_type": "stream",
     "text": [
      "[3/5]\n",
      "Val Loss: [loss.val=2.8184947967529297] [loss.avg=2.093892604112625]\n",
      "Val Batch Time: [0.06240361928939819]\n",
      "[4/5]\n",
      "Val Loss: [loss.val=2.723625898361206] [loss.avg=2.219839262962341]\n",
      "Val Batch Time: [0.05742311477661133]\n",
      "New best model by [Val Loss = 2.219839262962341]\n",
      "Saving model checkpoint\n",
      "Epoch: [7][0/5]\n",
      "Train Loss: [loss.val=0.6921711564064026] [loss.avg=0.6921711564064026]\n",
      "Train Batch Time: [0.22690725326538086]\n",
      "Epoch: [7][1/5]\n",
      "Train Loss: [loss.val=0.6652157306671143] [loss.avg=0.6786934435367584]\n",
      "Train Batch Time: [0.18319463729858398]\n",
      "Epoch: [7][2/5]\n",
      "Train Loss: [loss.val=0.6822831034660339] [loss.avg=0.679889996846517]\n",
      "Train Batch Time: [0.16869584719340006]\n",
      "Epoch: [7][3/5]\n",
      "Train Loss: [loss.val=0.6938483119010925] [loss.avg=0.6833795756101608]\n",
      "Train Batch Time: [0.16140437126159668]\n",
      "Epoch: [7][4/5]\n",
      "Train Loss: [loss.val=0.6885959506034851] [loss.avg=0.6844228506088257]\n",
      "Train Batch Time: [0.1570584297180176]\n",
      "[0/5]\n",
      "Val Loss: [loss.val=0.6876615285873413] [loss.avg=0.6876615285873413]\n",
      "Val Batch Time: [0.13510966300964355]\n",
      "[1/5]\n",
      "Val Loss: [loss.val=0.6866534948348999] [loss.avg=0.6871575117111206]\n",
      "Val Batch Time: [0.08699512481689453]\n",
      "[2/5]\n",
      "Val Loss: [loss.val=0.6685866117477417] [loss.avg=0.6809672117233276]\n",
      "Val Batch Time: [0.07035064697265625]\n",
      "[3/5]\n",
      "Val Loss: [loss.val=0.6863694190979004] [loss.avg=0.6823177635669708]\n",
      "Val Batch Time: [0.06197047233581543]\n",
      "[4/5]\n",
      "Val Loss: [loss.val=1.369689702987671] [loss.avg=0.8197921514511108]\n",
      "Val Batch Time: [0.05712251663208008]\n",
      "New best model by [Val Loss = 0.8197921514511108]\n",
      "Saving model checkpoint\n",
      "Epoch: [8][0/5]\n",
      "Train Loss: [loss.val=0.6899225115776062] [loss.avg=0.6899225115776062]\n",
      "Train Batch Time: [0.2258138656616211]\n",
      "Epoch: [8][1/5]\n",
      "Train Loss: [loss.val=0.6914985775947571] [loss.avg=0.6907105445861816]\n",
      "Train Batch Time: [0.18263041973114014]\n",
      "Epoch: [8][2/5]\n",
      "Train Loss: [loss.val=0.6806822419166565] [loss.avg=0.6873677770296732]\n",
      "Train Batch Time: [0.16832184791564941]\n",
      "Epoch: [8][3/5]\n",
      "Train Loss: [loss.val=0.6897014379501343] [loss.avg=0.6879511922597885]\n",
      "Train Batch Time: [0.16118335723876953]\n",
      "Epoch: [8][4/5]\n",
      "Train Loss: [loss.val=0.6846224069595337] [loss.avg=0.6872854351997375]\n",
      "Train Batch Time: [0.15685815811157228]\n",
      "[0/5]\n",
      "Val Loss: [loss.val=0.6871076822280884] [loss.avg=0.6871076822280884]\n",
      "Val Batch Time: [0.13782000541687012]\n",
      "[1/5]\n",
      "Val Loss: [loss.val=1.420502781867981] [loss.avg=1.0538052320480347]\n",
      "Val Batch Time: [0.08821988105773926]\n",
      "[2/5]\n",
      "Val Loss: [loss.val=0.6969107389450073] [loss.avg=0.9348404010136923]\n",
      "Val Batch Time: [0.07126132647196452]\n",
      "[3/5]\n",
      "Val Loss: [loss.val=0.7062835097312927] [loss.avg=0.8777011781930923]\n",
      "Val Batch Time: [0.06272178888320923]\n",
      "[4/5]\n",
      "Val Loss: [loss.val=0.6891437768936157] [loss.avg=0.839989697933197]\n",
      "Val Batch Time: [0.05790553092956543]\n",
      "Epoch: [9][0/5]\n",
      "Train Loss: [loss.val=0.6805098056793213] [loss.avg=0.6805098056793213]\n",
      "Train Batch Time: [0.23093605041503906]\n",
      "Epoch: [9][1/5]\n",
      "Train Loss: [loss.val=0.6812300086021423] [loss.avg=0.6808699071407318]\n",
      "Train Batch Time: [0.18533563613891602]\n",
      "Epoch: [9][2/5]\n",
      "Train Loss: [loss.val=0.6832241415977478] [loss.avg=0.6816546519597372]\n",
      "Train Batch Time: [0.1701502005259196]\n",
      "Epoch: [9][3/5]\n",
      "Train Loss: [loss.val=0.6873272061347961] [loss.avg=0.6830727905035019]\n",
      "Train Batch Time: [0.16255342960357666]\n",
      "Epoch: [9][4/5]\n",
      "Train Loss: [loss.val=0.6877073049545288] [loss.avg=0.6839996933937073]\n",
      "Train Batch Time: [0.157959508895874]\n",
      "[0/5]\n",
      "Val Loss: [loss.val=0.6826240420341492] [loss.avg=0.6826240420341492]\n",
      "Val Batch Time: [0.14231610298156738]\n",
      "[1/5]\n",
      "Val Loss: [loss.val=1.0332162380218506] [loss.avg=0.8579201400279999]\n",
      "Val Batch Time: [0.09070479869842529]\n",
      "[2/5]\n",
      "Val Loss: [loss.val=0.6827878952026367] [loss.avg=0.7995427250862122]\n",
      "Val Batch Time: [0.07282217343648274]\n",
      "[3/5]\n",
      "Val Loss: [loss.val=0.6917301416397095] [loss.avg=0.7725895792245865]\n",
      "Val Batch Time: [0.06401169300079346]\n",
      "[4/5]\n",
      "Val Loss: [loss.val=0.7119988203048706] [loss.avg=0.7604714274406433]\n",
      "Val Batch Time: [0.058616256713867186]\n",
      "New best model by [Val Loss = 0.7604714274406433]\n",
      "Saving model checkpoint\n"
     ]
    },
    {
     "data": {
      "image/png": "[encoded data removed]",
      "text/plain": [
       "<Figure size 432x288 with 2 Axes>"
      ]
     },
     "metadata": {
      "needs_background": "light"
     },
     "output_type": "display_data"
    }
   ],
   "source": [
    "plot_data = {}\n",
    "plot_data['train_loss'] = zeros(EPOCHS)\n",
    "plot_data['val_loss'] = zeros(EPOCHS)\n",
    "plot_data['epoch'] = 0\n",
    "\n",
    "it_axes = arange(EPOCHS)\n",
    "_, ax1 = subplots()\n",
    "ax2 = ax1.twinx()\n",
    "ax1.set_xlabel('Epochs')\n",
    "ax1.set_ylabel('Train Loss (r), Val Loss (y)')\n",
    "ax1.set_ylim([0, 2])\n",
    "best_loss = 1000\n",
    "\n",
    "\n",
    "for epoch in range(EPOCHS):\n",
    "    plot_data['epoch'] = epoch\n",
    "    # train for one epoch\n",
    "    plot_data = train(train_loader, model, criterion, optimizer, epoch, print_freq, plot_data, GPU)\n",
    "    # evaluate on validation set\n",
    "    plot_data = validate(val_loader, model, criterion, print_freq, plot_data, GPU)\n",
    "    \n",
    "    # remember best model and save checkpoint\n",
    "    is_best = plot_data['val_loss'][epoch] < best_loss\n",
    "    if is_best:\n",
    "        val_loss = plot_data['val_loss'][epoch]\n",
    "        logger.info(f'New best model by [Val Loss = {val_loss}]')\n",
    "        best_loss = plot_data['val_loss'][epoch]\n",
    "        filename = f'{DATASET_ROOT}/models/multi-modal-epoch-{epoch}'\n",
    "        save_checkpoint(model, filename)\n",
    "    \n",
    "    ax1.plot(it_axes[0: epoch+1], plot_data['train_loss'][0: epoch+1], 'r')\n",
    "    ax1.plot(it_axes[0: epoch+1], plot_data['val_loss'][0: epoch+1], 'y')\n",
    "    plt.grid(True)\n",
    "    plt.title('Multi-Modal CNN')\n",
    "    \n",
    "    # save plot to disk\n",
    "    title = f'{DATASET_ROOT}plots/epoch_{epoch}.jpg'\n",
    "    savefig(title, bbox_inches='tight')"
   ]
  },
  {
   "cell_type": "code",
   "execution_count": null,
   "id": "4b908965",
   "metadata": {},
   "outputs": [],
   "source": []
  }
 ],
 "metadata": {
  "kernelspec": {
   "display_name": "conda_pytorch_p36",
   "language": "python",
   "name": "conda_pytorch_p36"
  },
  "language_info": {
   "codemirror_mode": {
    "name": "ipython",
    "version": 3
   },
   "file_extension": ".py",
   "mimetype": "text/x-python",
   "name": "python",
   "nbconvert_exporter": "python",
   "pygments_lexer": "ipython3",
   "version": "3.6.13"
  }
 },
 "nbformat": 4,
 "nbformat_minor": 5
}
