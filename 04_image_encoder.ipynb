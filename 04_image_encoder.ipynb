{
 "cells": [
  {
   "cell_type": "markdown",
   "id": "8cec425a",
   "metadata": {},
   "source": [
    "#### Imports "
   ]
  },
  {
   "cell_type": "code",
   "execution_count": 1,
   "id": "b0342c18",
   "metadata": {},
   "outputs": [],
   "source": [
    "from torch.utils.data import Dataset, DataLoader\n",
    "import torchvision.transforms as transforms\n",
    "import torchvision.models as models\n",
    "from PIL import Image\n",
    "import pandas as pd\n",
    "import numpy as np\n",
    "import logging\n",
    "import torch"
   ]
  },
  {
   "cell_type": "code",
   "execution_count": 2,
   "id": "bf83b74e",
   "metadata": {},
   "outputs": [],
   "source": [
    "logger = logging.getLogger(__name__)\n",
    "logger.setLevel(logging.INFO)\n",
    "logger.addHandler(logging.StreamHandler())"
   ]
  },
  {
   "cell_type": "code",
   "execution_count": 3,
   "id": "10ccc1c8",
   "metadata": {},
   "outputs": [
    {
     "name": "stderr",
     "output_type": "stream",
     "text": [
      "Using torch: 1.4.0\n"
     ]
    }
   ],
   "source": [
    "logger.info(f'Using torch: {torch.__version__}')"
   ]
  },
  {
   "cell_type": "markdown",
   "id": "30741b4a",
   "metadata": {},
   "source": [
    "#### Essentials"
   ]
  },
  {
   "cell_type": "code",
   "execution_count": 4,
   "id": "7b3a58c2",
   "metadata": {},
   "outputs": [],
   "source": [
    "DATASET_ROOT = './data/'\n",
    "MODEL_PATH = f'{DATASET_ROOT}' + 'models/multi-modal-epoch-9.pth.tar'\n",
    "CAPTIONS_TEST_SET_PATH = 'embeddings/caption_embeddings.csv'\n",
    "\n",
    "EMBEDDING_DIMENSIONALITY = 1000 # number of CNN outputs = dimensionality of the captions word2vec model\n",
    "BATCH_SIZE = 4 \n",
    "WORKERS = 4 \n",
    "GPU = 0\n",
    "\n",
    "IMAGE_EMBEDDING_PATH = f'{DATASET_ROOT}/embeddings/image_embeddings.csv'"
   ]
  },
  {
   "cell_type": "markdown",
   "id": "ae76ce11",
   "metadata": {},
   "source": [
    "#### Load model"
   ]
  },
  {
   "cell_type": "code",
   "execution_count": 5,
   "id": "c8b237a0",
   "metadata": {},
   "outputs": [],
   "source": [
    "class Model(torch.nn.Module):\n",
    "    def __init__(self, embedding_dimensionality):\n",
    "        super(Model, self).__init__()\n",
    "        self.cnn = models.resnet50(pretrained=True, num_classes=embedding_dimensionality)\n",
    "\n",
    "    def forward(self, image):\n",
    "        x = self.cnn(image)\n",
    "        return x"
   ]
  },
  {
   "cell_type": "code",
   "execution_count": 6,
   "id": "127c1b43",
   "metadata": {},
   "outputs": [
    {
     "data": {
      "text/plain": [
       "<All keys matched successfully>"
      ]
     },
     "execution_count": 6,
     "metadata": {},
     "output_type": "execute_result"
    }
   ],
   "source": [
    "model_encoder = Model(EMBEDDING_DIMENSIONALITY).cuda(GPU)\n",
    "model_encoder = torch.nn.DataParallel(model_encoder, device_ids=[GPU]).cuda(GPU)\n",
    "state_dict = torch.load(MODEL_PATH)\n",
    "model_encoder.load_state_dict(state_dict, strict=True)"
   ]
  },
  {
   "cell_type": "markdown",
   "id": "0fdf9a1c",
   "metadata": {},
   "source": [
    "#### Define and load datasets"
   ]
  },
  {
   "cell_type": "code",
   "execution_count": 7,
   "id": "c858433b",
   "metadata": {},
   "outputs": [],
   "source": [
    "class Dataset(Dataset):\n",
    "    def __init__(self, root_dir, split, embedding_dimensionality):\n",
    "        self.root_dir = root_dir\n",
    "        self.split = split\n",
    "        self.embedding_dimensionality = embedding_dimensionality\n",
    "        self.preprocess = transforms.Compose([transforms.RandomHorizontalFlip(), \n",
    "                                              transforms.RandomCrop(224), \n",
    "                                              transforms.ToTensor(), \n",
    "                                              transforms.Normalize(mean=[0.485, 0.456, 0.406], \n",
    "                                                                   std=[0.229, 0.224, 0.225])])\n",
    "        logger.info(f'Loading data from {split}')\n",
    "        \n",
    "        # count number of images in the split\n",
    "        n = 0\n",
    "        with open(f'{root_dir}{split}', 'r') as f:\n",
    "            for _, _ in enumerate(f):\n",
    "                n += 1\n",
    "                \n",
    "        # placeholder for image ids - dummy bytes\n",
    "        self.img_ids = np.empty([n], dtype='S50')\n",
    "        # placeholder for captions embedding - [number of captions * vector dimension]\n",
    "        self.captions_embeddings = np.zeros((n, self.embedding_dimensionality), dtype=np.float32)\n",
    "        \n",
    "        # populate the placeholders \n",
    "        with open(f'{root_dir}{split}', 'r') as f:\n",
    "            for idx, row in enumerate(f):\n",
    "                uid, vec = row.split('\\t')\n",
    "                vec = vec.strip().split(',')\n",
    "                self.img_ids[idx] = uid\n",
    "                for i in range(self.embedding_dimensionality):\n",
    "                    self.captions_embeddings[idx, i] = float(vec[i])\n",
    "        logger.info(f'Caption embedding shape = {self.captions_embeddings[0].shape}')\n",
    "        logger.info('Data loading done.')\n",
    "\n",
    "    def __len__(self):\n",
    "        return len(self.img_ids)\n",
    "    \n",
    "    def __getitem__(self, idx):\n",
    "        img_id = self.img_ids[idx].decode('utf-8')\n",
    "        img = Image.open(f'{self.root_dir}images/{img_id}.jpg').convert('RGB')\n",
    "        img_tensor = self.preprocess(img)\n",
    "        target_tensor = torch.from_numpy(self.captions_embeddings[idx, :])\n",
    "        return img_id, img_tensor, target_tensor"
   ]
  },
  {
   "cell_type": "code",
   "execution_count": 8,
   "id": "012b552b",
   "metadata": {},
   "outputs": [
    {
     "name": "stderr",
     "output_type": "stream",
     "text": [
      "Loading data from embeddings/caption_embeddings.csv\n",
      "Caption embedding shape = (1000,)\n",
      "Data loading done.\n"
     ]
    }
   ],
   "source": [
    "test_dataset = Dataset(DATASET_ROOT, CAPTIONS_TEST_SET_PATH, EMBEDDING_DIMENSIONALITY)\n",
    "test_loader = torch.utils.data.DataLoader(test_dataset, \n",
    "                                          batch_size=BATCH_SIZE, \n",
    "                                          shuffle=False, \n",
    "                                          num_workers=WORKERS, \n",
    "                                          pin_memory=True)"
   ]
  },
  {
   "cell_type": "markdown",
   "id": "1e9e6e63",
   "metadata": {},
   "source": [
    "#### Encode images"
   ]
  },
  {
   "cell_type": "code",
   "execution_count": 9,
   "id": "e3a7bdb7",
   "metadata": {},
   "outputs": [],
   "source": [
    "with torch.no_grad():\n",
    "    model_encoder.eval()\n",
    "    image_embeddings = {}\n",
    "    for i, (img_ids, image, target) in enumerate(test_loader):\n",
    "        image_var = torch.autograd.Variable(image)\n",
    "        outputs = model_encoder(image_var)\n",
    "        \n",
    "        for batch_idx, image_embedding in enumerate(outputs):\n",
    "            img_id = img_ids[batch_idx]\n",
    "            \n",
    "            image_embedding = np.array(image_embedding.cpu()).tolist()\n",
    "            image_embeddings[img_id] = image_embedding "
   ]
  },
  {
   "cell_type": "code",
   "execution_count": 10,
   "id": "ff6a5a49",
   "metadata": {},
   "outputs": [
    {
     "data": {
      "text/plain": [
       "20"
      ]
     },
     "execution_count": 10,
     "metadata": {},
     "output_type": "execute_result"
    }
   ],
   "source": [
    "len(image_embeddings)"
   ]
  },
  {
   "cell_type": "code",
   "execution_count": 11,
   "id": "8c005218",
   "metadata": {},
   "outputs": [],
   "source": [
    "df = pd.DataFrame(list(image_embeddings.items()), columns=['id', 'image_vec'])"
   ]
  },
  {
   "cell_type": "code",
   "execution_count": 12,
   "id": "667ef74f",
   "metadata": {},
   "outputs": [
    {
     "data": {
      "text/html": [
       "<div>\n",
       "<style scoped>\n",
       "    .dataframe tbody tr th:only-of-type {\n",
       "        vertical-align: middle;\n",
       "    }\n",
       "\n",
       "    .dataframe tbody tr th {\n",
       "        vertical-align: top;\n",
       "    }\n",
       "\n",
       "    .dataframe thead th {\n",
       "        text-align: right;\n",
       "    }\n",
       "</style>\n",
       "<table border=\"1\" class=\"dataframe\">\n",
       "  <thead>\n",
       "    <tr style=\"text-align: right;\">\n",
       "      <th></th>\n",
       "      <th>id</th>\n",
       "      <th>image_vec</th>\n",
       "    </tr>\n",
       "  </thead>\n",
       "  <tbody>\n",
       "    <tr>\n",
       "      <th>0</th>\n",
       "      <td>1481007530145672379</td>\n",
       "      <td>[0.16084320843219757, -0.033384770154953, 0.23...</td>\n",
       "    </tr>\n",
       "    <tr>\n",
       "      <th>1</th>\n",
       "      <td>1490659882930594965</td>\n",
       "      <td>[0.16006359457969666, -0.03246902674436569, 0....</td>\n",
       "    </tr>\n",
       "    <tr>\n",
       "      <th>2</th>\n",
       "      <td>1481097035704453947</td>\n",
       "      <td>[0.15905271470546722, -0.03431205824017525, 0....</td>\n",
       "    </tr>\n",
       "    <tr>\n",
       "      <th>3</th>\n",
       "      <td>1489658491986857252</td>\n",
       "      <td>[0.1590772420167923, -0.034317757934331894, 0....</td>\n",
       "    </tr>\n",
       "    <tr>\n",
       "      <th>4</th>\n",
       "      <td>1487676925685022333</td>\n",
       "      <td>[0.15962550044059753, -0.03415822237730026, 0....</td>\n",
       "    </tr>\n",
       "  </tbody>\n",
       "</table>\n",
       "</div>"
      ],
      "text/plain": [
       "                    id                                          image_vec\n",
       "0  1481007530145672379  [0.16084320843219757, -0.033384770154953, 0.23...\n",
       "1  1490659882930594965  [0.16006359457969666, -0.03246902674436569, 0....\n",
       "2  1481097035704453947  [0.15905271470546722, -0.03431205824017525, 0....\n",
       "3  1489658491986857252  [0.1590772420167923, -0.034317757934331894, 0....\n",
       "4  1487676925685022333  [0.15962550044059753, -0.03415822237730026, 0...."
      ]
     },
     "execution_count": 12,
     "metadata": {},
     "output_type": "execute_result"
    }
   ],
   "source": [
    "df.head(5)"
   ]
  },
  {
   "cell_type": "code",
   "execution_count": 13,
   "id": "05a043ed",
   "metadata": {},
   "outputs": [],
   "source": [
    "df.to_csv(IMAGE_EMBEDDING_PATH, sep='\\t', index=False, header=False)"
   ]
  }
 ],
 "metadata": {
  "kernelspec": {
   "display_name": "conda_pytorch_p36",
   "language": "python",
   "name": "conda_pytorch_p36"
  },
  "language_info": {
   "codemirror_mode": {
    "name": "ipython",
    "version": 3
   },
   "file_extension": ".py",
   "mimetype": "text/x-python",
   "name": "python",
   "nbconvert_exporter": "python",
   "pygments_lexer": "ipython3",
   "version": "3.6.13"
  }
 },
 "nbformat": 4,
 "nbformat_minor": 5
}
