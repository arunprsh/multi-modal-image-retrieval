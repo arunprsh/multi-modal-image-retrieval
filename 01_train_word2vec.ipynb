{
 "cells": [
  {
   "cell_type": "markdown",
   "id": "14c70c43",
   "metadata": {},
   "source": [
    "#### Prerequisites"
   ]
  },
  {
   "cell_type": "code",
   "execution_count": 1,
   "id": "6ffa49b7",
   "metadata": {},
   "outputs": [],
   "source": [
    "%%capture\n",
    "\n",
    "!pip install gensim==4.0.1\n",
    "!pip install python-Levenshtein\n",
    "!pip install stop-words"
   ]
  },
  {
   "cell_type": "markdown",
   "id": "3977eba7",
   "metadata": {},
   "source": [
    "#### Imports "
   ]
  },
  {
   "cell_type": "code",
   "execution_count": 2,
   "id": "5d7c0744",
   "metadata": {},
   "outputs": [],
   "source": [
    "from stop_words import get_stop_words\n",
    "import gensim\n",
    "import string\n",
    "import glob"
   ]
  },
  {
   "cell_type": "markdown",
   "id": "935a7cd3",
   "metadata": {},
   "source": [
    "#### Essentials"
   ]
  },
  {
   "cell_type": "markdown",
   "id": "3224f375",
   "metadata": {},
   "source": [
    "We will keep only letters and digits of the caption and remove other symbols, emojis, etc."
   ]
  },
  {
   "cell_type": "code",
   "execution_count": 3,
   "id": "9c3b9cb8",
   "metadata": {},
   "outputs": [
    {
     "data": {
      "text/plain": [
       "'abcdefghijklmnopqrstuvwxyzABCDEFGHIJKLMNOPQRSTUVWXYZ0123456789 '"
      ]
     },
     "execution_count": 3,
     "metadata": {},
     "output_type": "execute_result"
    }
   ],
   "source": [
    "whitelist = string.ascii_letters + string.digits + ' '\n",
    "whitelist"
   ]
  },
  {
   "cell_type": "code",
   "execution_count": 4,
   "id": "266602f6",
   "metadata": {},
   "outputs": [
    {
     "data": {
      "text/plain": [
       "['a', 'about', 'above', 'after', 'again']"
      ]
     },
     "execution_count": 4,
     "metadata": {},
     "output_type": "execute_result"
    }
   ],
   "source": [
    "stop_words = get_stop_words('en')\n",
    "stop_words[:5]"
   ]
  },
  {
   "cell_type": "code",
   "execution_count": 5,
   "id": "2f230391",
   "metadata": {},
   "outputs": [],
   "source": [
    "filter_words = ['http', 'https', 'photo', 'picture', 'image', 'insta', 'instagram', 'post']\n",
    "for word in filter_words:\n",
    "    stop_words.append(word)"
   ]
  },
  {
   "cell_type": "markdown",
   "id": "cc3c930c",
   "metadata": {},
   "source": [
    "#### Load and prep captions"
   ]
  },
  {
   "cell_type": "code",
   "execution_count": 6,
   "id": "5121a627",
   "metadata": {},
   "outputs": [],
   "source": [
    "def clean_caption(caption: str) -> str:\n",
    "    caption = caption.replace('#', '').replace('  ', ' ')\n",
    "    cleaned_caption = []\n",
    "    for char in caption:\n",
    "        if char in whitelist:\n",
    "            cleaned_caption.append(char)\n",
    "    return ''.join(cleaned_caption)"
   ]
  },
  {
   "cell_type": "code",
   "execution_count": 7,
   "id": "a22d3afc",
   "metadata": {},
   "outputs": [],
   "source": [
    "captions = []\n",
    "\n",
    "for file_name in glob.glob('./data/captions/*.txt'):\n",
    "    with open(file_name, 'r') as f:\n",
    "        lines = []\n",
    "        for line in f.readlines():\n",
    "            lines.append(line)\n",
    "        caption = ' '.join(lines)\n",
    "        caption = clean_caption(caption)\n",
    "        captions.append(caption)"
   ]
  },
  {
   "cell_type": "code",
   "execution_count": 8,
   "id": "ada7b6bd",
   "metadata": {},
   "outputs": [
    {
     "data": {
      "text/plain": [
       "'Blind idealism is reactionary scary DEADLY  Barbara Kruger'"
      ]
     },
     "execution_count": 8,
     "metadata": {},
     "output_type": "execute_result"
    }
   ],
   "source": [
    "captions[0]"
   ]
  },
  {
   "cell_type": "markdown",
   "id": "2d0f675b",
   "metadata": {},
   "source": [
    "#### Tokenize"
   ]
  },
  {
   "cell_type": "code",
   "execution_count": 9,
   "id": "374bab48",
   "metadata": {},
   "outputs": [],
   "source": [
    "tokenized_captions = []\n",
    "for caption in captions:\n",
    "    caption = caption.lower()\n",
    "    tokens = gensim.utils.simple_preprocess(caption)\n",
    "    filtered_tokens = [token for token in tokens if not token in stop_words]\n",
    "    tokenized_captions.append(filtered_tokens)"
   ]
  },
  {
   "cell_type": "code",
   "execution_count": 10,
   "id": "56185f99",
   "metadata": {},
   "outputs": [
    {
     "data": {
      "text/plain": [
       "20"
      ]
     },
     "execution_count": 10,
     "metadata": {},
     "output_type": "execute_result"
    }
   ],
   "source": [
    "len(tokenized_captions)"
   ]
  },
  {
   "cell_type": "markdown",
   "id": "c6987c79",
   "metadata": {},
   "source": [
    "#### Training parameters"
   ]
  },
  {
   "cell_type": "code",
   "execution_count": 11,
   "id": "0a852b5b",
   "metadata": {},
   "outputs": [],
   "source": [
    "vector_size = 1000 # word representation size\n",
    "min_count = 1 # discard words with less than 1 appearances\n",
    "epochs = 10 # iterate over the training corpus x times (train for x epochs)\n",
    "window = 8 # words window used during training\n",
    "training_cores = 8 # number of CPU cores used to train the model (based on chosen instance type)"
   ]
  },
  {
   "cell_type": "markdown",
   "id": "0bafbe90",
   "metadata": {},
   "source": [
    "#### Train model"
   ]
  },
  {
   "cell_type": "code",
   "execution_count": 12,
   "id": "4a589ce1",
   "metadata": {},
   "outputs": [],
   "source": [
    "model = gensim.models.Word2Vec(tokenized_captions, \n",
    "                               vector_size=vector_size, \n",
    "                               min_count=min_count, \n",
    "                               workers=training_cores, \n",
    "                               epochs=epochs, \n",
    "                               window=window)"
   ]
  },
  {
   "cell_type": "code",
   "execution_count": 13,
   "id": "6870678c",
   "metadata": {},
   "outputs": [
    {
     "data": {
      "text/plain": [
       "{'vector_size': 1000,\n",
       " 'workers': 8,\n",
       " 'epochs': 10,\n",
       " 'train_count': 1,\n",
       " 'total_train_time': 0.0264550908759702,\n",
       " 'batch_words': 10000,\n",
       " 'sg': 0,\n",
       " 'alpha': 0.025,\n",
       " 'min_alpha': 0.0001,\n",
       " 'window': 8,\n",
       " 'random': RandomState(MT19937) at 0x7FC41865F678,\n",
       " 'hs': 0,\n",
       " 'negative': 5,\n",
       " 'ns_exponent': 0.75,\n",
       " 'cbow_mean': 1,\n",
       " 'compute_loss': False,\n",
       " 'running_training_loss': 0.0,\n",
       " 'min_alpha_yet_reached': 0.0025899999999999986,\n",
       " 'corpus_count': 20,\n",
       " 'corpus_total_words': 394,\n",
       " 'max_final_vocab': None,\n",
       " 'max_vocab_size': None,\n",
       " 'min_count': 1,\n",
       " 'sample': 0.001,\n",
       " 'sorted_vocab': 1,\n",
       " 'null_word': 0,\n",
       " 'cum_table': array([  51322688,   73837507,   90448669,  107059830,  120447222,\n",
       "         133834613,  147222004,  157099060,  166976116,  176853172,\n",
       "         186730228,  196607284,  206484340,  216361396,  226238452,\n",
       "         236115508,  245992563,  255869619,  265746675,  275623731,\n",
       "         285500787,  295377843,  305254899,  315131955,  325009011,\n",
       "         334886067,  344763123,  354640179,  364517235,  374394290,\n",
       "         384271346,  394148402,  404025458,  413902514,  423779570,\n",
       "         433656626,  443533682,  453410738,  463287794,  473164850,\n",
       "         483041906,  492918961,  502796017,  512673073,  522550129,\n",
       "         532427185,  538300118,  544173050,  550045983,  555918916,\n",
       "         561791848,  567664781,  573537713,  579410646,  585283578,\n",
       "         591156511,  597029444,  602902376,  608775309,  614648241,\n",
       "         620521174,  626394107,  632267039,  638139972,  644012904,\n",
       "         649885837,  655758770,  661631702,  667504635,  673377567,\n",
       "         679250500,  685123432,  690996365,  696869298,  702742230,\n",
       "         708615163,  714488095,  720361028,  726233961,  732106893,\n",
       "         737979826,  743852758,  749725691,  755598624,  761471556,\n",
       "         767344489,  773217421,  779090354,  784963286,  790836219,\n",
       "         796709152,  802582084,  808455017,  814327949,  820200882,\n",
       "         826073815,  831946747,  837819680,  843692612,  849565545,\n",
       "         855438478,  861311410,  867184343,  873057275,  878930208,\n",
       "         884803140,  890676073,  896549006,  902421938,  908294871,\n",
       "         914167803,  920040736,  925913669,  931786601,  937659534,\n",
       "         943532466,  949405399,  955278332,  961151264,  967024197,\n",
       "         972897129,  978770062,  984642994,  990515927,  996388860,\n",
       "        1002261792, 1008134725, 1014007657, 1019880590, 1025753523,\n",
       "        1031626455, 1037499388, 1043372320, 1049245253, 1055118186,\n",
       "        1060991118, 1066864051, 1072736983, 1078609916, 1084482848,\n",
       "        1090355781, 1096228714, 1102101646, 1107974579, 1113847511,\n",
       "        1119720444, 1125593377, 1131466309, 1137339242, 1143212174,\n",
       "        1149085107, 1154958040, 1160830972, 1166703905, 1172576837,\n",
       "        1178449770, 1184322702, 1190195635, 1196068568, 1201941500,\n",
       "        1207814433, 1213687365, 1219560298, 1225433231, 1231306163,\n",
       "        1237179096, 1243052028, 1248924961, 1254797894, 1260670826,\n",
       "        1266543759, 1272416691, 1278289624, 1284162556, 1290035489,\n",
       "        1295908422, 1301781354, 1307654287, 1313527219, 1319400152,\n",
       "        1325273085, 1331146017, 1337018950, 1342891882, 1348764815,\n",
       "        1354637748, 1360510680, 1366383613, 1372256545, 1378129478,\n",
       "        1384002410, 1389875343, 1395748276, 1401621208, 1407494141,\n",
       "        1413367073, 1419240006, 1425112939, 1430985871, 1436858804,\n",
       "        1442731736, 1448604669, 1454477602, 1460350534, 1466223467,\n",
       "        1472096399, 1477969332, 1483842265, 1489715197, 1495588130,\n",
       "        1501461062, 1507333995, 1513206927, 1519079860, 1524952793,\n",
       "        1530825725, 1536698658, 1542571590, 1548444523, 1554317456,\n",
       "        1560190388, 1566063321, 1571936253, 1577809186, 1583682119,\n",
       "        1589555051, 1595427984, 1601300916, 1607173849, 1613046781,\n",
       "        1618919714, 1624792647, 1630665579, 1636538512, 1642411444,\n",
       "        1648284377, 1654157310, 1660030242, 1665903175, 1671776107,\n",
       "        1677649040, 1683521973, 1689394905, 1695267838, 1701140770,\n",
       "        1707013703, 1712886635, 1718759568, 1724632501, 1730505433,\n",
       "        1736378366, 1742251298, 1748124231, 1753997164, 1759870096,\n",
       "        1765743029, 1771615961, 1777488894, 1783361827, 1789234759,\n",
       "        1795107692, 1800980624, 1806853557, 1812726489, 1818599422,\n",
       "        1824472355, 1830345287, 1836218220, 1842091152, 1847964085,\n",
       "        1853837018, 1859709950, 1865582883, 1871455815, 1877328748,\n",
       "        1883201681, 1889074613, 1894947546, 1900820478, 1906693411,\n",
       "        1912566343, 1918439276, 1924312209, 1930185141, 1936058074,\n",
       "        1941931006, 1947803939, 1953676872, 1959549804, 1965422737,\n",
       "        1971295669, 1977168602, 1983041535, 1988914467, 1994787400,\n",
       "        2000660332, 2006533265, 2012406197, 2018279130, 2024152063,\n",
       "        2030024995, 2035897928, 2041770860, 2047643793, 2053516726,\n",
       "        2059389658, 2065262591, 2071135523, 2077008456, 2082881389,\n",
       "        2088754321, 2094627254, 2100500186, 2106373119, 2112246051,\n",
       "        2118118984, 2123991917, 2129864849, 2135737782, 2141610714,\n",
       "        2147483647], dtype=uint32),\n",
       " 'raw_vocab': defaultdict(int, {}),\n",
       " 'wv': <gensim.models.keyedvectors.KeyedVectors at 0x7fc417d32240>,\n",
       " 'hashfxn': <function hash(obj, /)>,\n",
       " 'seed': 1,\n",
       " 'layer1_size': 1000,\n",
       " 'comment': None,\n",
       " 'load': <function gensim.utils.call_on_class_only(*args, **kwargs)>,\n",
       " 'effective_min_count': 1,\n",
       " 'lifecycle_events': [{'msg': 'effective_min_count=1 retains 321 unique words (100.0%% of original 321, drops 0)',\n",
       "   'datetime': '2021-05-12T03:55:33.324729',\n",
       "   'gensim': '4.0.1',\n",
       "   'python': '3.6.13 | packaged by conda-forge | (default, Feb 19 2021, 05:36:01) \\n[GCC 9.3.0]',\n",
       "   'platform': 'Linux-4.14.225-121.362.amzn1.x86_64-x86_64-with-glibc2.9',\n",
       "   'event': 'prepare_vocab'},\n",
       "  {'msg': 'effective_min_count=1 leaves 394 word corpus (100.0%% of original 394, drops 0)',\n",
       "   'datetime': '2021-05-12T03:55:33.354549',\n",
       "   'gensim': '4.0.1',\n",
       "   'python': '3.6.13 | packaged by conda-forge | (default, Feb 19 2021, 05:36:01) \\n[GCC 9.3.0]',\n",
       "   'platform': 'Linux-4.14.225-121.362.amzn1.x86_64-x86_64-with-glibc2.9',\n",
       "   'event': 'prepare_vocab'},\n",
       "  {'msg': 'downsampling leaves estimated 337.7170348772902 word corpus (85.7%% of prior 394)',\n",
       "   'datetime': '2021-05-12T03:55:33.356867',\n",
       "   'gensim': '4.0.1',\n",
       "   'python': '3.6.13 | packaged by conda-forge | (default, Feb 19 2021, 05:36:01) \\n[GCC 9.3.0]',\n",
       "   'platform': 'Linux-4.14.225-121.362.amzn1.x86_64-x86_64-with-glibc2.9',\n",
       "   'event': 'prepare_vocab'},\n",
       "  {'update': False,\n",
       "   'trim_rule': 'None',\n",
       "   'datetime': '2021-05-12T03:55:33.362971',\n",
       "   'gensim': '4.0.1',\n",
       "   'python': '3.6.13 | packaged by conda-forge | (default, Feb 19 2021, 05:36:01) \\n[GCC 9.3.0]',\n",
       "   'platform': 'Linux-4.14.225-121.362.amzn1.x86_64-x86_64-with-glibc2.9',\n",
       "   'event': 'build_vocab'},\n",
       "  {'msg': 'training model with 8 workers on 321 vocabulary and 1000 features, using sg=0 hs=0 sample=0.001 negative=5 window=8',\n",
       "   'datetime': '2021-05-12T03:55:33.363016',\n",
       "   'gensim': '4.0.1',\n",
       "   'python': '3.6.13 | packaged by conda-forge | (default, Feb 19 2021, 05:36:01) \\n[GCC 9.3.0]',\n",
       "   'platform': 'Linux-4.14.225-121.362.amzn1.x86_64-x86_64-with-glibc2.9',\n",
       "   'event': 'train'},\n",
       "  {'msg': 'training on 3940 raw words (3377 effective words) took 0.0s, 75120 effective words/s',\n",
       "   'datetime': '2021-05-12T03:55:33.407994',\n",
       "   'gensim': '4.0.1',\n",
       "   'python': '3.6.13 | packaged by conda-forge | (default, Feb 19 2021, 05:36:01) \\n[GCC 9.3.0]',\n",
       "   'platform': 'Linux-4.14.225-121.362.amzn1.x86_64-x86_64-with-glibc2.9',\n",
       "   'event': 'train'},\n",
       "  {'params': 'Word2Vec(vocab=321, vector_size=1000, alpha=0.025)',\n",
       "   'datetime': '2021-05-12T03:55:33.408029',\n",
       "   'gensim': '4.0.1',\n",
       "   'python': '3.6.13 | packaged by conda-forge | (default, Feb 19 2021, 05:36:01) \\n[GCC 9.3.0]',\n",
       "   'platform': 'Linux-4.14.225-121.362.amzn1.x86_64-x86_64-with-glibc2.9',\n",
       "   'event': 'created'}],\n",
       " 'syn1neg': array([[-1.2270096e-04, -1.7284683e-05, -1.0430248e-04, ...,\n",
       "          1.4967468e-04,  8.9344270e-05,  2.0157815e-05],\n",
       "        [-8.7006585e-05, -1.5550764e-05, -1.2078783e-06, ...,\n",
       "          5.9135440e-05,  8.9258947e-06,  7.3141309e-05],\n",
       "        [-2.3996296e-05, -2.3751974e-05,  2.6245596e-06, ...,\n",
       "          8.0729063e-05,  3.0015406e-05,  4.3905733e-05],\n",
       "        ...,\n",
       "        [-3.2594002e-05,  6.6264920e-06, -1.2459477e-05, ...,\n",
       "          2.8681974e-05,  8.6783448e-06,  7.8434723e-06],\n",
       "        [-1.9050722e-05, -7.2392536e-06,  2.5461595e-06, ...,\n",
       "          4.1781932e-05, -5.5866335e-06,  1.5887348e-05],\n",
       "        [-6.7091059e-05, -3.3417880e-06, -2.4495250e-06, ...,\n",
       "          5.7064426e-05, -1.7697355e-05,  4.0497448e-06]], dtype=float32)}"
      ]
     },
     "execution_count": 13,
     "metadata": {},
     "output_type": "execute_result"
    }
   ],
   "source": [
    "model.__dict__"
   ]
  },
  {
   "cell_type": "markdown",
   "id": "c7cf8f4d",
   "metadata": {},
   "source": [
    "#### Save model"
   ]
  },
  {
   "cell_type": "code",
   "execution_count": 14,
   "id": "52b3cc06",
   "metadata": {},
   "outputs": [],
   "source": [
    "model.save('./data/models/word2vec.model')"
   ]
  },
  {
   "cell_type": "markdown",
   "id": "8b82901c",
   "metadata": {},
   "source": [
    "#### Test model"
   ]
  },
  {
   "cell_type": "code",
   "execution_count": 15,
   "id": "468b9e47",
   "metadata": {},
   "outputs": [],
   "source": [
    "from gensim import models"
   ]
  },
  {
   "cell_type": "code",
   "execution_count": 16,
   "id": "c72f0d99",
   "metadata": {},
   "outputs": [],
   "source": [
    "model = models.Word2Vec.load('./data/models/word2vec.model')"
   ]
  },
  {
   "cell_type": "code",
   "execution_count": 17,
   "id": "351b03b7",
   "metadata": {},
   "outputs": [
    {
     "data": {
      "text/plain": [
       "['newyork',\n",
       " 'newyorkcity',\n",
       " 'nyc',\n",
       " 'bebworldcom',\n",
       " 'otro',\n",
       " 'times',\n",
       " 'can',\n",
       " 'travel',\n",
       " 'canon',\n",
       " 'california',\n",
       " 'vacation',\n",
       " 'follow',\n",
       " 'hair',\n",
       " 'australia',\n",
       " 'change',\n",
       " 'vacations',\n",
       " 'jcsmoothcom',\n",
       " 'city',\n",
       " 'york',\n",
       " 'mansions',\n",
       " 'timessquare',\n",
       " 'fashion',\n",
       " 'new',\n",
       " 'menswear',\n",
       " 'square',\n",
       " 'repost',\n",
       " 'dapper',\n",
       " 'paris',\n",
       " 'make',\n",
       " 'manhattan',\n",
       " 'casanova',\n",
       " 'tonight',\n",
       " 'hit',\n",
       " 'stage',\n",
       " 'vegas',\n",
       " 'party',\n",
       " 'tour',\n",
       " 'st',\n",
       " 'paul',\n",
       " 'mn',\n",
       " 'ny',\n",
       " 'lasvegas',\n",
       " 'losangeles',\n",
       " 'style',\n",
       " 'big',\n",
       " 'badgirlclub',\n",
       " 'teamcanon',\n",
       " 'mm',\n",
       " 'brooklyn',\n",
       " 'mpls',\n",
       " 'stpaul',\n",
       " 'blackandwhite',\n",
       " 'localmusic',\n",
       " 'artist',\n",
       " 'snapchat',\n",
       " 'creative',\n",
       " 'gorgeous',\n",
       " 'shotsbyzaya',\n",
       " 'mnstandup',\n",
       " 'madrid',\n",
       " 'flatlays',\n",
       " 'amsterdam',\n",
       " 'netherlands',\n",
       " 'mywhitetable',\n",
       " 'italy',\n",
       " 'berlin',\n",
       " 'kashalotbeauty',\n",
       " 'live',\n",
       " 'rarest',\n",
       " 'thing',\n",
       " 'world',\n",
       " 'people',\n",
       " 'just',\n",
       " 'exist',\n",
       " 'oscar',\n",
       " 'wilde',\n",
       " 'france',\n",
       " 'donetsk',\n",
       " 'igukraine',\n",
       " 'order',\n",
       " 'viber',\n",
       " 'whats',\n",
       " 'textile',\n",
       " 'dm',\n",
       " 'scandinavian',\n",
       " 'interior',\n",
       " 'stock',\n",
       " 'direct',\n",
       " 'dnepropetrovsk',\n",
       " 'ukraine',\n",
       " 'kyiv',\n",
       " 'odessa',\n",
       " 'kiev',\n",
       " 'lviv',\n",
       " 'vscoukraine',\n",
       " 'kievblog',\n",
       " 'cushions',\n",
       " 'miami',\n",
       " 'site',\n",
       " 'thelightclinic',\n",
       " 'ao',\n",
       " 'destino',\n",
       " 'sueo',\n",
       " 'juntos',\n",
       " 'springbreak',\n",
       " 'family',\n",
       " 'tel',\n",
       " 'cumpleaos',\n",
       " 'sydney',\n",
       " 'bangkok',\n",
       " 'thailand',\n",
       " 'london',\n",
       " 'korea',\n",
       " 'japan',\n",
       " 'bro',\n",
       " 'feliz',\n",
       " 'china',\n",
       " 'nunca',\n",
       " 'idealism',\n",
       " 'reactionary',\n",
       " 'scary',\n",
       " 'deadly',\n",
       " 'barbara',\n",
       " 'kruger',\n",
       " 'necesite',\n",
       " 'andresmqb',\n",
       " 'un',\n",
       " 'mejor',\n",
       " 'amigo',\n",
       " 'porque',\n",
       " 'siempre',\n",
       " 'tuve',\n",
       " 'singapore',\n",
       " 'hongkong',\n",
       " 'click',\n",
       " 'pool',\n",
       " 'malibu',\n",
       " 'mansion',\n",
       " 'concierge',\n",
       " 'ago',\n",
       " 'beverlyhills',\n",
       " 'poolparty',\n",
       " 'exoticcars',\n",
       " 'estate',\n",
       " 'privatejet',\n",
       " 'worldwide',\n",
       " 'sunsetplaza',\n",
       " 'modernhome',\n",
       " 'summerhouse',\n",
       " 'houserentals',\n",
       " 'villa',\n",
       " 'mansionrentals',\n",
       " 'lampang',\n",
       " 'day',\n",
       " 'palangkaraya',\n",
       " 'couple',\n",
       " 'french',\n",
       " 'gay',\n",
       " 'go',\n",
       " 'back',\n",
       " 'please',\n",
       " 'hollywoodhills',\n",
       " 'los',\n",
       " 'angeles',\n",
       " 'yachts',\n",
       " 'cars',\n",
       " 'events',\n",
       " 'films',\n",
       " 'summers',\n",
       " 'gypsysoul',\n",
       " 'hiking',\n",
       " 'streetwear',\n",
       " 'mensgoods',\n",
       " 'mensstyle',\n",
       " 'mensfashionblog',\n",
       " 'mensfashions',\n",
       " 'mensapparel',\n",
       " 'menwithstyle',\n",
       " 'fashionformen',\n",
       " 'streetstyle',\n",
       " 'styleoftheday',\n",
       " 'styleblogger',\n",
       " 'fashionblogger',\n",
       " 'throwback',\n",
       " 'manhattanbridge',\n",
       " 'dusk',\n",
       " 'sunrise',\n",
       " 'streetfashion',\n",
       " 'aspirational',\n",
       " 'thatviewthough',\n",
       " 'kingnyc',\n",
       " 'arizona',\n",
       " 'santamonica',\n",
       " 'gym',\n",
       " 'canada',\n",
       " 'sanfrancisco',\n",
       " 'guys',\n",
       " 'boys',\n",
       " 'nfl',\n",
       " 'jesus',\n",
       " 'searcy',\n",
       " 'hi',\n",
       " 'vibrations',\n",
       " 'crewneck',\n",
       " 'thoughts',\n",
       " 'vibration',\n",
       " 'tbt',\n",
       " 'mybestshot',\n",
       " 'dudes',\n",
       " 'mua',\n",
       " 'jenverstyles',\n",
       " 'promo',\n",
       " 'powered',\n",
       " 'powershoot',\n",
       " 'modelcall',\n",
       " 'lasvegasstrip',\n",
       " 'mansionedition',\n",
       " 'jcsmooth',\n",
       " 'tvpersonality',\n",
       " 'nyclifestyle',\n",
       " 'entstyles',\n",
       " 'adorama',\n",
       " 'vegasphotoshoot',\n",
       " 'fashionweek',\n",
       " 'nevada',\n",
       " 'melangenyc',\n",
       " 'photoretoucher',\n",
       " 'picoftheday',\n",
       " 'prettygrlrocky',\n",
       " 'instadaily',\n",
       " 'igers',\n",
       " 'sun',\n",
       " 'sky',\n",
       " 'skyporn',\n",
       " 'bridge',\n",
       " 'skypainters',\n",
       " 'wintermornings',\n",
       " 'worldxashy',\n",
       " 'randomshot',\n",
       " 'sightseeing',\n",
       " 'ilovenewyork',\n",
       " 'takemeback',\n",
       " 'repostapp',\n",
       " 'mode',\n",
       " 'gaga',\n",
       " 'college',\n",
       " 'watkins',\n",
       " 'pakistanistyle',\n",
       " 'swag',\n",
       " 'trendy',\n",
       " 'stylish',\n",
       " 'suit',\n",
       " 'shades',\n",
       " 'pose',\n",
       " 'beard',\n",
       " 'watch',\n",
       " 'gentleman',\n",
       " 'netting',\n",
       " 'goat',\n",
       " 'handmade',\n",
       " 'shadow',\n",
       " 'kusama',\n",
       " 'beautiful',\n",
       " 'pgs',\n",
       " 'pakistanimen',\n",
       " 'contemporaryart',\n",
       " 'bilal',\n",
       " 'glen',\n",
       " 'state',\n",
       " 'park',\n",
       " 'wanderlust',\n",
       " 'vagabonds',\n",
       " 'oscarwilde',\n",
       " 'svgypsysoul',\n",
       " 'implied',\n",
       " 'coddiwomple',\n",
       " 'watkinsglen',\n",
       " 'goseedo',\n",
       " 'gorge',\n",
       " 'waterfall',\n",
       " 'photooftheday',\n",
       " 'nofilter',\n",
       " 'modern',\n",
       " 'mayauction',\n",
       " 'fitness',\n",
       " 'vintagebeauty',\n",
       " 'dapperdarlins',\n",
       " 'darlins',\n",
       " 'usa',\n",
       " 'viaje',\n",
       " 'omerpasha',\n",
       " 'uk',\n",
       " 'men',\n",
       " 'glendale',\n",
       " 'hollywood',\n",
       " 'florida',\n",
       " 'mtv',\n",
       " 'sacramento',\n",
       " 'youtube',\n",
       " 'burbank',\n",
       " 'sandiego',\n",
       " 'dapperstyle',\n",
       " 'vintagestyle',\n",
       " 'painting',\n",
       " 'vintage',\n",
       " 'fingers',\n",
       " 'tho',\n",
       " 'photography',\n",
       " 'instamood',\n",
       " 'instagood',\n",
       " 'nycphotographer',\n",
       " 'shotoncanon',\n",
       " 'canonrebel',\n",
       " 'woman',\n",
       " 'laugh',\n",
       " 'anything',\n",
       " 'pinup',\n",
       " 'pinupgirl',\n",
       " 'pinupstyle',\n",
       " 'pinupintheparks',\n",
       " 'blind']"
      ]
     },
     "execution_count": 17,
     "metadata": {},
     "output_type": "execute_result"
    }
   ],
   "source": [
    "# model.wv.index_to_key"
   ]
  },
  {
   "cell_type": "markdown",
   "id": "84e3d1b3",
   "metadata": {},
   "source": [
    "Test most similar words"
   ]
  },
  {
   "cell_type": "code",
   "execution_count": 18,
   "id": "ca01be79",
   "metadata": {},
   "outputs": [
    {
     "data": {
      "text/plain": [
       "[('times', 0.0945308655500412),\n",
       " ('igukraine', 0.092128224670887),\n",
       " ('beverlyhills', 0.08560965955257416),\n",
       " ('japan', 0.0844288170337677),\n",
       " ('vintage', 0.08180374652147293),\n",
       " ('ago', 0.08149947226047516),\n",
       " ('order', 0.07725626230239868),\n",
       " ('lasvegas', 0.06876716017723083),\n",
       " ('repost', 0.06680316478013992),\n",
       " ('australia', 0.06671624630689621)]"
      ]
     },
     "execution_count": 18,
     "metadata": {},
     "output_type": "execute_result"
    }
   ],
   "source": [
    "model.wv.most_similar(positive=['fashion', 'newyork'])"
   ]
  },
  {
   "cell_type": "code",
   "execution_count": 19,
   "id": "34d714e0",
   "metadata": {},
   "outputs": [
    {
     "data": {
      "text/plain": [
       "[('events', 0.08811479806900024),\n",
       " ('igers', 0.07289917021989822),\n",
       " ('ukraine', 0.07155462354421616),\n",
       " ('dapperstyle', 0.06987272202968597),\n",
       " ('back', 0.06290832906961441),\n",
       " ('mensfashions', 0.061511777341365814),\n",
       " ('boys', 0.06037839874625206),\n",
       " ('porque', 0.05505591630935669),\n",
       " ('dapper', 0.05375199019908905),\n",
       " ('coddiwomple', 0.052894849330186844)]"
      ]
     },
     "execution_count": 19,
     "metadata": {},
     "output_type": "execute_result"
    }
   ],
   "source": [
    "model.wv.most_similar(negative=['fashion', 'newyork'])"
   ]
  },
  {
   "cell_type": "code",
   "execution_count": 20,
   "id": "d9ecd2ba",
   "metadata": {},
   "outputs": [
    {
     "data": {
      "text/plain": [
       "[('couple', 0.09467583149671555),\n",
       " ('singapore', 0.08557996153831482),\n",
       " ('igukraine', 0.07807522267103195),\n",
       " ('streetwear', 0.07463937252759933),\n",
       " ('teamcanon', 0.0723017230629921),\n",
       " ('tbt', 0.07054192572832108),\n",
       " ('vintage', 0.06983204185962677),\n",
       " ('styleblogger', 0.0657968819141388),\n",
       " ('cars', 0.06495926529169083),\n",
       " ('villa', 0.06416767090559006)]"
      ]
     },
     "execution_count": 20,
     "metadata": {},
     "output_type": "execute_result"
    }
   ],
   "source": [
    "model.wv.most_similar(positive=['newyork'], negative=['deadly'])"
   ]
  },
  {
   "cell_type": "code",
   "execution_count": 21,
   "id": "047888af",
   "metadata": {},
   "outputs": [
    {
     "data": {
      "text/plain": [
       "'fashion'"
      ]
     },
     "execution_count": 21,
     "metadata": {},
     "output_type": "execute_result"
    }
   ],
   "source": [
    "model.wv.doesnt_match(['fashion', 'food', 'show'])"
   ]
  },
  {
   "cell_type": "code",
   "execution_count": 22,
   "id": "6981ad15",
   "metadata": {},
   "outputs": [],
   "source": [
    "# model.wv.similarity('food', 'truck') - throws an exception since truck is out of vocab"
   ]
  },
  {
   "cell_type": "code",
   "execution_count": null,
   "id": "c83454cb",
   "metadata": {},
   "outputs": [],
   "source": []
  }
 ],
 "metadata": {
  "kernelspec": {
   "display_name": "conda_python3",
   "language": "python",
   "name": "conda_python3"
  },
  "language_info": {
   "codemirror_mode": {
    "name": "ipython",
    "version": 3
   },
   "file_extension": ".py",
   "mimetype": "text/x-python",
   "name": "python",
   "nbconvert_exporter": "python",
   "pygments_lexer": "ipython3",
   "version": "3.6.13"
  }
 },
 "nbformat": 4,
 "nbformat_minor": 5
}
