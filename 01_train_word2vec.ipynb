{
 "cells": [
  {
   "cell_type": "markdown",
   "id": "cb1b6209",
   "metadata": {},
   "source": [
    "#### Prerequisites"
   ]
  },
  {
   "cell_type": "code",
   "execution_count": 1,
   "id": "fa6c18bf",
   "metadata": {},
   "outputs": [],
   "source": [
    "%%capture\n",
    "\n",
    "!pip install gensim==4.0.1\n",
    "!pip install python-Levenshtein\n",
    "!pip install stop-words"
   ]
  },
  {
   "cell_type": "markdown",
   "id": "07117386",
   "metadata": {},
   "source": [
    "#### Imports "
   ]
  },
  {
   "cell_type": "code",
   "execution_count": 2,
   "id": "8f2ee917",
   "metadata": {},
   "outputs": [],
   "source": [
    "from stop_words import get_stop_words\n",
    "import gensim\n",
    "import string\n",
    "import glob"
   ]
  },
  {
   "cell_type": "markdown",
   "id": "220ff3d8",
   "metadata": {},
   "source": [
    "#### Essentials"
   ]
  },
  {
   "cell_type": "markdown",
   "id": "4f187a76",
   "metadata": {},
   "source": [
    "We will keep only letters and digits of the caption and remove other symbols, emojis, etc."
   ]
  },
  {
   "cell_type": "code",
   "execution_count": 4,
   "id": "8b4594d1",
   "metadata": {},
   "outputs": [
    {
     "data": {
      "text/plain": [
       "'abcdefghijklmnopqrstuvwxyzABCDEFGHIJKLMNOPQRSTUVWXYZ0123456789 '"
      ]
     },
     "execution_count": 4,
     "metadata": {},
     "output_type": "execute_result"
    }
   ],
   "source": [
    "whitelist = string.ascii_letters + string.digits + ' '\n",
    "whitelist"
   ]
  },
  {
   "cell_type": "code",
   "execution_count": 5,
   "id": "dea0ef53",
   "metadata": {},
   "outputs": [
    {
     "data": {
      "text/plain": [
       "['a', 'about', 'above', 'after', 'again']"
      ]
     },
     "execution_count": 5,
     "metadata": {},
     "output_type": "execute_result"
    }
   ],
   "source": [
    "stop_words = get_stop_words('en')\n",
    "stop_words[:5]"
   ]
  },
  {
   "cell_type": "code",
   "execution_count": 6,
   "id": "c4b6f8c2",
   "metadata": {},
   "outputs": [],
   "source": [
    "filter_words = ['http', 'https', 'photo', 'picture', 'image', 'insta', 'instagram', 'post']\n",
    "for word in filter_words:\n",
    "    stop_words.append(word)"
   ]
  },
  {
   "cell_type": "markdown",
   "id": "967b4ccf",
   "metadata": {},
   "source": [
    "#### Load and prep captions"
   ]
  },
  {
   "cell_type": "code",
   "execution_count": 7,
   "id": "ee0bbcc0",
   "metadata": {},
   "outputs": [],
   "source": [
    "def clean_caption(caption: str) -> str:\n",
    "    caption = caption.replace('#', '').replace('  ', ' ')\n",
    "    cleaned_caption = []\n",
    "    for char in caption:\n",
    "        if char in whitelist:\n",
    "            cleaned_caption.append(char)\n",
    "    return ''.join(cleaned_caption)"
   ]
  },
  {
   "cell_type": "code",
   "execution_count": 11,
   "id": "d783f24f",
   "metadata": {},
   "outputs": [],
   "source": [
    "captions = []\n",
    "\n",
    "for file_name in glob.glob('./data/captions/newyork/*.txt'):\n",
    "    with open(file_name, 'r') as f:\n",
    "        lines = []\n",
    "        for line in f.readlines():\n",
    "            lines.append(line)\n",
    "        caption = ' '.join(lines)\n",
    "        caption = clean_caption(caption)\n",
    "        captions.append(caption)"
   ]
  },
  {
   "cell_type": "code",
   "execution_count": 12,
   "id": "16b42c29",
   "metadata": {},
   "outputs": [
    {
     "data": {
      "text/plain": [
       "'Rubbing elbows and eating Shrimp with some of LAs Best for Clique LA mixology101   thegrovela TheGroveLA Secret CliqueLA Shrimp   WePlanYourEvent EventProfs SpecialEvents EventSpecialist EventPlanner EventPlanning EventProduction Activations PrivateEvent RedCarpetEvent CorporateEvent CompanyParty NonProfitEvent HolidayParty PremiereParty WrapParty ClientOffSites IncentiveTrip LosAngeles NewYork EventLife Events ADMPEvents   w w w  a d m p E v e n t s  c o m admpevents'"
      ]
     },
     "execution_count": 12,
     "metadata": {},
     "output_type": "execute_result"
    }
   ],
   "source": [
    "captions[0]"
   ]
  },
  {
   "cell_type": "markdown",
   "id": "923087aa",
   "metadata": {},
   "source": [
    "#### Tokenize"
   ]
  },
  {
   "cell_type": "code",
   "execution_count": 14,
   "id": "ca9807d6",
   "metadata": {},
   "outputs": [],
   "source": [
    "tokenized_captions = []\n",
    "for caption in captions:\n",
    "    caption = caption.lower()\n",
    "    tokens = gensim.utils.simple_preprocess(caption)\n",
    "    filtered_tokens = [token for token in tokens if not token in stop_words]\n",
    "    tokenized_captions.append(filtered_tokens)"
   ]
  },
  {
   "cell_type": "code",
   "execution_count": 15,
   "id": "3b91b19b",
   "metadata": {},
   "outputs": [
    {
     "data": {
      "text/plain": [
       "10"
      ]
     },
     "execution_count": 15,
     "metadata": {},
     "output_type": "execute_result"
    }
   ],
   "source": [
    "len(tokenized_captions)"
   ]
  },
  {
   "cell_type": "markdown",
   "id": "f5da94b9",
   "metadata": {},
   "source": [
    "#### Training parameters"
   ]
  },
  {
   "cell_type": "code",
   "execution_count": 19,
   "id": "411d8ea0",
   "metadata": {},
   "outputs": [],
   "source": [
    "vector_size = 100 # word representation size\n",
    "min_count = 1 # discard words with less than 1 appearances\n",
    "epochs = 10 # iterate over the training corpus x times (train for x epochs)\n",
    "window = 8 # words window used during training\n",
    "training_cores = 8 # number of CPU cores used to train the model (based on chosen instance type)"
   ]
  },
  {
   "cell_type": "markdown",
   "id": "b05a3cfc",
   "metadata": {},
   "source": [
    "#### Train model"
   ]
  },
  {
   "cell_type": "code",
   "execution_count": 20,
   "id": "ea1cc112",
   "metadata": {},
   "outputs": [],
   "source": [
    "model = gensim.models.Word2Vec(tokenized_captions, \n",
    "                               vector_size=vector_size, \n",
    "                               min_count=min_count, \n",
    "                               workers=training_cores, \n",
    "                               epochs=epochs, \n",
    "                               window=window)"
   ]
  },
  {
   "cell_type": "code",
   "execution_count": 22,
   "id": "3ac77d61",
   "metadata": {},
   "outputs": [
    {
     "data": {
      "text/plain": [
       "{'vector_size': 100,\n",
       " 'workers': 8,\n",
       " 'epochs': 10,\n",
       " 'train_count': 1,\n",
       " 'total_train_time': 0.009853740033577196,\n",
       " 'batch_words': 10000,\n",
       " 'sg': 0,\n",
       " 'alpha': 0.025,\n",
       " 'min_alpha': 0.0001,\n",
       " 'window': 8,\n",
       " 'random': RandomState(MT19937) at 0x7F0DD6AE2678,\n",
       " 'hs': 0,\n",
       " 'negative': 5,\n",
       " 'ns_exponent': 0.75,\n",
       " 'cbow_mean': 1,\n",
       " 'compute_loss': False,\n",
       " 'running_training_loss': 0.0,\n",
       " 'min_alpha_yet_reached': 0.0025899999999999986,\n",
       " 'corpus_count': 10,\n",
       " 'corpus_total_words': 270,\n",
       " 'max_final_vocab': None,\n",
       " 'max_vocab_size': None,\n",
       " 'min_count': 1,\n",
       " 'sample': 0.001,\n",
       " 'sorted_vocab': 1,\n",
       " 'null_word': 0,\n",
       " 'cum_table': array([  51712475,   84534415,  104050457,  123566500,  143082542,\n",
       "         162598584,  182114627,  201630669,  221146711,  235545412,\n",
       "         249944113,  264342814,  278741515,  293140215,  307538916,\n",
       "         321937617,  336336318,  350735018,  365133719,  379532420,\n",
       "         393931121,  408329822,  422728522,  437127223,  451525924,\n",
       "         465924625,  480323326,  494722026,  509120727,  523519428,\n",
       "         537918129,  546479648,  555041166,  563602685,  572164204,\n",
       "         580725722,  589287241,  597848760,  606410278,  614971797,\n",
       "         623533316,  632094835,  640656353,  649217872,  657779391,\n",
       "         666340909,  674902428,  683463947,  692025466,  700586984,\n",
       "         709148503,  717710022,  726271540,  734833059,  743394578,\n",
       "         751956097,  760517615,  769079134,  777640653,  786202171,\n",
       "         794763690,  803325209,  811886728,  820448246,  829009765,\n",
       "         837571284,  846132802,  854694321,  863255840,  871817359,\n",
       "         880378877,  888940396,  897501915,  906063433,  914624952,\n",
       "         923186471,  931747990,  940309508,  948871027,  957432546,\n",
       "         965994064,  974555583,  983117102,  991678621, 1000240139,\n",
       "        1008801658, 1017363177, 1025924695, 1034486214, 1043047733,\n",
       "        1051609252, 1060170770, 1068732289, 1077293808, 1085855326,\n",
       "        1094416845, 1102978364, 1111539883, 1120101401, 1128662920,\n",
       "        1137224439, 1145785957, 1154347476, 1162908995, 1171470514,\n",
       "        1180032032, 1188593551, 1197155070, 1205716588, 1214278107,\n",
       "        1222839626, 1231401145, 1239962663, 1248524182, 1257085701,\n",
       "        1265647219, 1274208738, 1282770257, 1291331776, 1299893294,\n",
       "        1308454813, 1317016332, 1325577850, 1334139369, 1342700888,\n",
       "        1351262407, 1359823925, 1368385444, 1376946963, 1385508481,\n",
       "        1394070000, 1402631519, 1411193038, 1419754556, 1428316075,\n",
       "        1436877594, 1445439112, 1454000631, 1462562150, 1471123669,\n",
       "        1479685187, 1488246706, 1496808225, 1505369743, 1513931262,\n",
       "        1522492781, 1531054300, 1539615818, 1548177337, 1556738856,\n",
       "        1565300374, 1573861893, 1582423412, 1590984931, 1599546449,\n",
       "        1608107968, 1616669487, 1625231005, 1633792524, 1642354043,\n",
       "        1650915562, 1659477080, 1668038599, 1676600118, 1685161636,\n",
       "        1693723155, 1702284674, 1710846193, 1719407711, 1727969230,\n",
       "        1736530749, 1745092267, 1753653786, 1762215305, 1770776824,\n",
       "        1779338342, 1787899861, 1796461380, 1805022898, 1813584417,\n",
       "        1822145936, 1830707455, 1839268973, 1847830492, 1856392011,\n",
       "        1864953529, 1873515048, 1882076567, 1890638086, 1899199604,\n",
       "        1907761123, 1916322642, 1924884160, 1933445679, 1942007198,\n",
       "        1950568717, 1959130235, 1967691754, 1976253273, 1984814791,\n",
       "        1993376310, 2001937829, 2010499348, 2019060866, 2027622385,\n",
       "        2036183904, 2044745422, 2053306941, 2061868460, 2070429979,\n",
       "        2078991497, 2087553016, 2096114535, 2104676053, 2113237572,\n",
       "        2121799091, 2130360610, 2138922128, 2147483647], dtype=uint32),\n",
       " 'raw_vocab': defaultdict(int, {}),\n",
       " 'wv': <gensim.models.keyedvectors.KeyedVectors at 0x7f0dd61e8400>,\n",
       " 'hashfxn': <function hash(obj, /)>,\n",
       " 'seed': 1,\n",
       " 'layer1_size': 100,\n",
       " 'comment': None,\n",
       " 'load': <function gensim.utils.call_on_class_only(*args, **kwargs)>,\n",
       " 'effective_min_count': 1,\n",
       " 'lifecycle_events': [{'msg': 'effective_min_count=1 retains 219 unique words (100.0%% of original 219, drops 0)',\n",
       "   'datetime': '2021-05-10T04:24:51.973110',\n",
       "   'gensim': '4.0.1',\n",
       "   'python': '3.6.13 | packaged by conda-forge | (default, Feb 19 2021, 05:36:01) \\n[GCC 9.3.0]',\n",
       "   'platform': 'Linux-4.14.225-121.362.amzn1.x86_64-x86_64-with-glibc2.9',\n",
       "   'event': 'prepare_vocab'},\n",
       "  {'msg': 'effective_min_count=1 leaves 270 word corpus (100.0%% of original 270, drops 0)',\n",
       "   'datetime': '2021-05-10T04:24:53.275013',\n",
       "   'gensim': '4.0.1',\n",
       "   'python': '3.6.13 | packaged by conda-forge | (default, Feb 19 2021, 05:36:01) \\n[GCC 9.3.0]',\n",
       "   'platform': 'Linux-4.14.225-121.362.amzn1.x86_64-x86_64-with-glibc2.9',\n",
       "   'event': 'prepare_vocab'},\n",
       "  {'msg': 'downsampling leaves estimated 182.2804588493501 word corpus (67.5%% of prior 270)',\n",
       "   'datetime': '2021-05-10T04:24:53.276818',\n",
       "   'gensim': '4.0.1',\n",
       "   'python': '3.6.13 | packaged by conda-forge | (default, Feb 19 2021, 05:36:01) \\n[GCC 9.3.0]',\n",
       "   'platform': 'Linux-4.14.225-121.362.amzn1.x86_64-x86_64-with-glibc2.9',\n",
       "   'event': 'prepare_vocab'},\n",
       "  {'update': False,\n",
       "   'trim_rule': 'None',\n",
       "   'datetime': '2021-05-10T04:24:53.281244',\n",
       "   'gensim': '4.0.1',\n",
       "   'python': '3.6.13 | packaged by conda-forge | (default, Feb 19 2021, 05:36:01) \\n[GCC 9.3.0]',\n",
       "   'platform': 'Linux-4.14.225-121.362.amzn1.x86_64-x86_64-with-glibc2.9',\n",
       "   'event': 'build_vocab'},\n",
       "  {'msg': 'training model with 8 workers on 219 vocabulary and 100 features, using sg=0 hs=0 sample=0.001 negative=5 window=8',\n",
       "   'datetime': '2021-05-10T04:24:53.281292',\n",
       "   'gensim': '4.0.1',\n",
       "   'python': '3.6.13 | packaged by conda-forge | (default, Feb 19 2021, 05:36:01) \\n[GCC 9.3.0]',\n",
       "   'platform': 'Linux-4.14.225-121.362.amzn1.x86_64-x86_64-with-glibc2.9',\n",
       "   'event': 'train'},\n",
       "  {'msg': 'training on 2700 raw words (1819 effective words) took 0.0s, 65909 effective words/s',\n",
       "   'datetime': '2021-05-10T04:24:53.308923',\n",
       "   'gensim': '4.0.1',\n",
       "   'python': '3.6.13 | packaged by conda-forge | (default, Feb 19 2021, 05:36:01) \\n[GCC 9.3.0]',\n",
       "   'platform': 'Linux-4.14.225-121.362.amzn1.x86_64-x86_64-with-glibc2.9',\n",
       "   'event': 'train'},\n",
       "  {'params': 'Word2Vec(vocab=219, vector_size=100, alpha=0.025)',\n",
       "   'datetime': '2021-05-10T04:24:53.308966',\n",
       "   'gensim': '4.0.1',\n",
       "   'python': '3.6.13 | packaged by conda-forge | (default, Feb 19 2021, 05:36:01) \\n[GCC 9.3.0]',\n",
       "   'platform': 'Linux-4.14.225-121.362.amzn1.x86_64-x86_64-with-glibc2.9',\n",
       "   'event': 'created'}],\n",
       " 'syn1neg': array([[ 4.90153732e-04, -7.86644174e-04, -2.00625509e-04, ...,\n",
       "          6.54700154e-04,  2.94890779e-04,  1.80995616e-04],\n",
       "        [ 1.02290523e-03, -3.17445199e-04,  1.01635895e-04, ...,\n",
       "          5.47328731e-04,  4.30438340e-05,  5.16557309e-04],\n",
       "        [ 3.22298467e-04, -2.07267381e-04, -1.67362741e-04, ...,\n",
       "          2.23345400e-04,  3.89924098e-04,  3.16822523e-04],\n",
       "        ...,\n",
       "        [ 1.87582300e-05, -2.98353960e-04, -4.51436681e-05, ...,\n",
       "          6.44317042e-05, -2.13221174e-05,  2.32138336e-04],\n",
       "        [ 9.55764044e-05, -1.29506137e-04,  2.03172240e-04, ...,\n",
       "          2.63644499e-04, -1.02298785e-04, -9.25961358e-05],\n",
       "        [ 2.79145926e-04,  1.25394887e-04, -1.98819791e-04, ...,\n",
       "         -7.78114991e-05,  4.38269235e-05, -1.62980868e-04]], dtype=float32)}"
      ]
     },
     "execution_count": 22,
     "metadata": {},
     "output_type": "execute_result"
    }
   ],
   "source": [
    "model.__dict__"
   ]
  },
  {
   "cell_type": "markdown",
   "id": "39c13f54",
   "metadata": {},
   "source": [
    "#### Save model"
   ]
  },
  {
   "cell_type": "code",
   "execution_count": 24,
   "id": "00e3324a",
   "metadata": {},
   "outputs": [],
   "source": [
    "model.save('./data/models/word2vec.model')"
   ]
  },
  {
   "cell_type": "markdown",
   "id": "e7be878e",
   "metadata": {},
   "source": [
    "#### Test model"
   ]
  },
  {
   "cell_type": "code",
   "execution_count": 25,
   "id": "0d6850b1",
   "metadata": {},
   "outputs": [],
   "source": [
    "from gensim import models"
   ]
  },
  {
   "cell_type": "code",
   "execution_count": 27,
   "id": "81457e53",
   "metadata": {},
   "outputs": [],
   "source": [
    "model = models.Word2Vec.load('./data/models/word2vec.model')"
   ]
  },
  {
   "cell_type": "markdown",
   "id": "24088d83",
   "metadata": {},
   "source": [
    "Test most similar words"
   ]
  },
  {
   "cell_type": "code",
   "execution_count": 28,
   "id": "fe758ef1",
   "metadata": {},
   "outputs": [
    {
     "data": {
      "text/plain": [
       "[('corporateevent', 0.3125542402267456),\n",
       " ('nfl', 0.22858406603336334),\n",
       " ('party', 0.2223261445760727),\n",
       " ('onlinestore', 0.22230403125286102),\n",
       " ('model', 0.21324695646762848),\n",
       " ('shrimp', 0.18388710916042328),\n",
       " ('wrapparty', 0.17837926745414734),\n",
       " ('bowtie', 0.17491039633750916),\n",
       " ('true', 0.171781986951828),\n",
       " ('crooklyn', 0.1617811620235443)]"
      ]
     },
     "execution_count": 28,
     "metadata": {},
     "output_type": "execute_result"
    }
   ],
   "source": [
    "model.wv.most_similar(positive=['fashion', 'newyork'])"
   ]
  },
  {
   "cell_type": "code",
   "execution_count": 29,
   "id": "efec433d",
   "metadata": {},
   "outputs": [
    {
     "data": {
      "text/plain": [
       "[('uberpromocode', 0.3113328218460083),\n",
       " ('sandiego', 0.2539641857147217),\n",
       " ('losangeles', 0.24870024621486664),\n",
       " ('beast', 0.1847950667142868),\n",
       " ('download', 0.1765165627002716),\n",
       " ('met', 0.17650361359119415),\n",
       " ('book', 0.1742529273033142),\n",
       " ('admpevents', 0.15765082836151123),\n",
       " ('foodspo', 0.15553607046604156),\n",
       " ('celebration', 0.14369958639144897)]"
      ]
     },
     "execution_count": 29,
     "metadata": {},
     "output_type": "execute_result"
    }
   ],
   "source": [
    "model.wv.most_similar(negative=['fashion', 'newyork'])"
   ]
  },
  {
   "cell_type": "code",
   "execution_count": 30,
   "id": "0e82874f",
   "metadata": {},
   "outputs": [
    {
     "data": {
      "text/plain": [
       "[('uberjust', 0.2485421597957611),\n",
       " ('eventspecialist', 0.24686424434185028),\n",
       " ('redcarpetevent', 0.23033036291599274),\n",
       " ('done', 0.22004669904708862),\n",
       " ('suitandtie', 0.21576322615146637),\n",
       " ('fashion', 0.200453981757164),\n",
       " ('clique', 0.19829021394252777),\n",
       " ('nfl', 0.17814338207244873),\n",
       " ('uberfreeride', 0.17691302299499512),\n",
       " ('drop', 0.16916896402835846)]"
      ]
     },
     "execution_count": 30,
     "metadata": {},
     "output_type": "execute_result"
    }
   ],
   "source": [
    "model.wv.most_similar(positive=['food'], negative=['healthy'])"
   ]
  },
  {
   "cell_type": "code",
   "execution_count": 36,
   "id": "1b31f4f8",
   "metadata": {},
   "outputs": [
    {
     "data": {
      "text/plain": [
       "'food'"
      ]
     },
     "execution_count": 36,
     "metadata": {},
     "output_type": "execute_result"
    }
   ],
   "source": [
    "model.wv.doesnt_match(['fashion', 'food', 'show'])"
   ]
  },
  {
   "cell_type": "code",
   "execution_count": 39,
   "id": "28cd2089",
   "metadata": {},
   "outputs": [],
   "source": [
    "# model.wv.similarity('food', 'truck') - throws an exception since truck is out of vocab"
   ]
  },
  {
   "cell_type": "code",
   "execution_count": null,
   "id": "2f5e5f2d",
   "metadata": {},
   "outputs": [],
   "source": []
  }
 ],
 "metadata": {
  "kernelspec": {
   "display_name": "conda_python3",
   "language": "python",
   "name": "conda_python3"
  },
  "language_info": {
   "codemirror_mode": {
    "name": "ipython",
    "version": 3
   },
   "file_extension": ".py",
   "mimetype": "text/x-python",
   "name": "python",
   "nbconvert_exporter": "python",
   "pygments_lexer": "ipython3",
   "version": "3.6.13"
  }
 },
 "nbformat": 4,
 "nbformat_minor": 5
}
