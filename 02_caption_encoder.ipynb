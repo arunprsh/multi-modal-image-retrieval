{
 "cells": [
  {
   "cell_type": "markdown",
   "id": "61143361",
   "metadata": {},
   "source": [
    "#### Imports "
   ]
  },
  {
   "cell_type": "code",
   "execution_count": 1,
   "id": "af1db1b0",
   "metadata": {},
   "outputs": [],
   "source": [
    "from stop_words import get_stop_words\n",
    "from gensim import corpora, models\n",
    "import pandas as pd\n",
    "import numpy as np\n",
    "import string\n",
    "import gensim\n",
    "import glob"
   ]
  },
  {
   "cell_type": "markdown",
   "id": "566e6dcb",
   "metadata": {},
   "source": [
    "#### Load model"
   ]
  },
  {
   "cell_type": "code",
   "execution_count": 2,
   "id": "527faa42",
   "metadata": {},
   "outputs": [],
   "source": [
    "model = models.Word2Vec.load('./data/models/word2vec.model')"
   ]
  },
  {
   "cell_type": "markdown",
   "id": "7bd6b402",
   "metadata": {},
   "source": [
    "#### Load and prep captions"
   ]
  },
  {
   "cell_type": "code",
   "execution_count": 3,
   "id": "dad87ed3",
   "metadata": {},
   "outputs": [
    {
     "data": {
      "text/plain": [
       "'abcdefghijklmnopqrstuvwxyzABCDEFGHIJKLMNOPQRSTUVWXYZ0123456789 '"
      ]
     },
     "execution_count": 3,
     "metadata": {},
     "output_type": "execute_result"
    }
   ],
   "source": [
    "whitelist = string.ascii_letters + string.digits + ' '\n",
    "whitelist"
   ]
  },
  {
   "cell_type": "code",
   "execution_count": 4,
   "id": "70d94a13",
   "metadata": {},
   "outputs": [
    {
     "data": {
      "text/plain": [
       "['a', 'about', 'above', 'after', 'again']"
      ]
     },
     "execution_count": 4,
     "metadata": {},
     "output_type": "execute_result"
    }
   ],
   "source": [
    "stop_words = get_stop_words('en')\n",
    "stop_words[:5]"
   ]
  },
  {
   "cell_type": "code",
   "execution_count": 5,
   "id": "b9e9085a",
   "metadata": {},
   "outputs": [],
   "source": [
    "filter_words = ['http', 'https', 'photo', 'picture', 'image', 'insta', 'instagram', 'post']\n",
    "for word in filter_words:\n",
    "    stop_words.append(word)"
   ]
  },
  {
   "cell_type": "code",
   "execution_count": 6,
   "id": "ea2e1814",
   "metadata": {},
   "outputs": [],
   "source": [
    "def clean_caption(caption: str) -> str:\n",
    "    caption = caption.replace('#', '').replace('  ', ' ')\n",
    "    cleaned_caption = []\n",
    "    for char in caption:\n",
    "        if char in whitelist:\n",
    "            cleaned_caption.append(char)\n",
    "    return ''.join(cleaned_caption)"
   ]
  },
  {
   "cell_type": "code",
   "execution_count": 7,
   "id": "acdec7be",
   "metadata": {},
   "outputs": [],
   "source": [
    "captions = {}\n",
    "\n",
    "for file_name in glob.glob('./data/captions/*.txt'):\n",
    "    with open(file_name, 'r') as f:\n",
    "        caption_id = file_name.split('/')[-1].replace('.txt', '')\n",
    "        lines = []\n",
    "        for line in f.readlines():\n",
    "            lines.append(line)\n",
    "        caption = ' '.join(lines)\n",
    "        caption = clean_caption(caption)\n",
    "        captions[caption_id] = caption"
   ]
  },
  {
   "cell_type": "markdown",
   "id": "95518856",
   "metadata": {},
   "source": [
    "#### Tokenize "
   ]
  },
  {
   "cell_type": "code",
   "execution_count": 8,
   "id": "f56d5eec",
   "metadata": {},
   "outputs": [],
   "source": [
    "tokenized_captions = {}\n",
    "\n",
    "for id_, caption in captions.items():\n",
    "    caption = caption.lower()\n",
    "    tokens = gensim.utils.simple_preprocess(caption)\n",
    "    filtered_tokens = [token for token in tokens if not token in stop_words]\n",
    "    filtered_tokens_in_vocab = [token for token in filtered_tokens if token in model.wv.key_to_index]\n",
    "    tokenized_captions[id_] = filtered_tokens_in_vocab"
   ]
  },
  {
   "cell_type": "markdown",
   "id": "e9fc846f",
   "metadata": {},
   "source": [
    "#### Create embedding"
   ]
  },
  {
   "cell_type": "code",
   "execution_count": 9,
   "id": "c0aae857",
   "metadata": {},
   "outputs": [],
   "source": [
    "vector_size = 1000 # word representation size"
   ]
  },
  {
   "cell_type": "code",
   "execution_count": 10,
   "id": "bb310941",
   "metadata": {},
   "outputs": [],
   "source": [
    "caption_embedding = {}\n",
    "for id_, caption in tokenized_captions.items():\n",
    "    embedding = np.zeros(vector_size)\n",
    "    # compute embedding of each word and the whole caption - average embedding of words\n",
    "    for token in caption:\n",
    "        embedding += model.wv[token]\n",
    "    # normalize the embedding - divide by number of words\n",
    "    if len(caption) > 1:\n",
    "        embedding /= len(caption)\n",
    "    # min at 0 and divide by max\n",
    "    if min(embedding) < 0:\n",
    "        embedding = embedding - min(embedding)\n",
    "    if max(embedding) > 0:\n",
    "         embedding = embedding / max(embedding)\n",
    "    vec = []\n",
    "    for i in range(vector_size):\n",
    "        vec.append(str(embedding[i]))\n",
    "\n",
    "    caption_embedding[id_] = ','.join(vec)"
   ]
  },
  {
   "cell_type": "code",
   "execution_count": 11,
   "id": "ce4b2ee7",
   "metadata": {},
   "outputs": [
    {
     "data": {
      "text/plain": [
       "20"
      ]
     },
     "execution_count": 11,
     "metadata": {},
     "output_type": "execute_result"
    }
   ],
   "source": [
    "len(caption_embedding)"
   ]
  },
  {
   "cell_type": "code",
   "execution_count": 12,
   "id": "0455dec4",
   "metadata": {},
   "outputs": [],
   "source": [
    "df = pd.DataFrame(list(caption_embedding.items()), columns=['id', 'caption_vec'])"
   ]
  },
  {
   "cell_type": "code",
   "execution_count": 13,
   "id": "eb068f53",
   "metadata": {},
   "outputs": [
    {
     "data": {
      "text/html": [
       "<div>\n",
       "<style scoped>\n",
       "    .dataframe tbody tr th:only-of-type {\n",
       "        vertical-align: middle;\n",
       "    }\n",
       "\n",
       "    .dataframe tbody tr th {\n",
       "        vertical-align: top;\n",
       "    }\n",
       "\n",
       "    .dataframe thead th {\n",
       "        text-align: right;\n",
       "    }\n",
       "</style>\n",
       "<table border=\"1\" class=\"dataframe\">\n",
       "  <thead>\n",
       "    <tr style=\"text-align: right;\">\n",
       "      <th></th>\n",
       "      <th>id</th>\n",
       "      <th>caption_vec</th>\n",
       "    </tr>\n",
       "  </thead>\n",
       "  <tbody>\n",
       "    <tr>\n",
       "      <th>0</th>\n",
       "      <td>1481007530145672379</td>\n",
       "      <td>0.3525857591226041,0.5628003472746195,0.689418...</td>\n",
       "    </tr>\n",
       "    <tr>\n",
       "      <th>1</th>\n",
       "      <td>1490659882930594965</td>\n",
       "      <td>0.3981266390220058,0.6765545631293353,0.492382...</td>\n",
       "    </tr>\n",
       "    <tr>\n",
       "      <th>2</th>\n",
       "      <td>1481097035704453947</td>\n",
       "      <td>0.5060395263183227,0.5219469383988314,0.750949...</td>\n",
       "    </tr>\n",
       "    <tr>\n",
       "      <th>3</th>\n",
       "      <td>1489658491986857252</td>\n",
       "      <td>0.6603368547307249,0.4578474946102846,0.573608...</td>\n",
       "    </tr>\n",
       "    <tr>\n",
       "      <th>4</th>\n",
       "      <td>1487676925685022333</td>\n",
       "      <td>0.7360358085075475,0.3539930954278208,0.475945...</td>\n",
       "    </tr>\n",
       "    <tr>\n",
       "      <th>5</th>\n",
       "      <td>1489896267786304778</td>\n",
       "      <td>0.6593034192456314,0.4165845340416728,0.353498...</td>\n",
       "    </tr>\n",
       "    <tr>\n",
       "      <th>6</th>\n",
       "      <td>1489696141964320706</td>\n",
       "      <td>0.42207672933397067,0.7121002365829232,0.61733...</td>\n",
       "    </tr>\n",
       "    <tr>\n",
       "      <th>7</th>\n",
       "      <td>1481040658940297881</td>\n",
       "      <td>0.6359996386674361,0.6005916804915926,0.266619...</td>\n",
       "    </tr>\n",
       "    <tr>\n",
       "      <th>8</th>\n",
       "      <td>1487747485463161463</td>\n",
       "      <td>0.540376623123047,0.5238551694830208,0.6327733...</td>\n",
       "    </tr>\n",
       "    <tr>\n",
       "      <th>9</th>\n",
       "      <td>1480941788440054562</td>\n",
       "      <td>0.4797552057907202,0.4400496271326795,0.816089...</td>\n",
       "    </tr>\n",
       "  </tbody>\n",
       "</table>\n",
       "</div>"
      ],
      "text/plain": [
       "                    id                                        caption_vec\n",
       "0  1481007530145672379  0.3525857591226041,0.5628003472746195,0.689418...\n",
       "1  1490659882930594965  0.3981266390220058,0.6765545631293353,0.492382...\n",
       "2  1481097035704453947  0.5060395263183227,0.5219469383988314,0.750949...\n",
       "3  1489658491986857252  0.6603368547307249,0.4578474946102846,0.573608...\n",
       "4  1487676925685022333  0.7360358085075475,0.3539930954278208,0.475945...\n",
       "5  1489896267786304778  0.6593034192456314,0.4165845340416728,0.353498...\n",
       "6  1489696141964320706  0.42207672933397067,0.7121002365829232,0.61733...\n",
       "7  1481040658940297881  0.6359996386674361,0.6005916804915926,0.266619...\n",
       "8  1487747485463161463  0.540376623123047,0.5238551694830208,0.6327733...\n",
       "9  1480941788440054562  0.4797552057907202,0.4400496271326795,0.816089..."
      ]
     },
     "execution_count": 13,
     "metadata": {},
     "output_type": "execute_result"
    }
   ],
   "source": [
    "df.head(10)"
   ]
  },
  {
   "cell_type": "code",
   "execution_count": 14,
   "id": "07f7fed8",
   "metadata": {},
   "outputs": [],
   "source": [
    "df.to_csv('./data/embeddings/caption_embeddings.csv', sep='\\t', index=False, header=False)"
   ]
  },
  {
   "cell_type": "code",
   "execution_count": null,
   "id": "f7d94b4e",
   "metadata": {},
   "outputs": [],
   "source": []
  }
 ],
 "metadata": {
  "kernelspec": {
   "display_name": "conda_python3",
   "language": "python",
   "name": "conda_python3"
  },
  "language_info": {
   "codemirror_mode": {
    "name": "ipython",
    "version": 3
   },
   "file_extension": ".py",
   "mimetype": "text/x-python",
   "name": "python",
   "nbconvert_exporter": "python",
   "pygments_lexer": "ipython3",
   "version": "3.6.13"
  }
 },
 "nbformat": 4,
 "nbformat_minor": 5
}
