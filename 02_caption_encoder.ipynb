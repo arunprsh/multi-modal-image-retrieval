{
 "cells": [
  {
   "cell_type": "markdown",
   "id": "6d30778b",
   "metadata": {},
   "source": [
    "#### Imports "
   ]
  },
  {
   "cell_type": "code",
   "execution_count": 9,
   "id": "e4995988",
   "metadata": {},
   "outputs": [],
   "source": [
    "from stop_words import get_stop_words\n",
    "from gensim import corpora, models\n",
    "import pandas as pd\n",
    "import numpy as np\n",
    "import string\n",
    "import gensim\n",
    "import glob"
   ]
  },
  {
   "cell_type": "markdown",
   "id": "48683df1",
   "metadata": {},
   "source": [
    "#### Load model"
   ]
  },
  {
   "cell_type": "code",
   "execution_count": 10,
   "id": "b302e19f",
   "metadata": {},
   "outputs": [
    {
     "data": {
      "text/plain": [
       "<gensim.models.word2vec.Word2Vec at 0x7f2d767a9e48>"
      ]
     },
     "execution_count": 10,
     "metadata": {},
     "output_type": "execute_result"
    }
   ],
   "source": [
    "model = models.Word2Vec.load('./data/models/word2vec.model')\n",
    "model"
   ]
  },
  {
   "cell_type": "markdown",
   "id": "68b25412",
   "metadata": {},
   "source": [
    "#### Load and prep captions"
   ]
  },
  {
   "cell_type": "code",
   "execution_count": 11,
   "id": "6d3dd069",
   "metadata": {},
   "outputs": [
    {
     "data": {
      "text/plain": [
       "'abcdefghijklmnopqrstuvwxyzABCDEFGHIJKLMNOPQRSTUVWXYZ0123456789 '"
      ]
     },
     "execution_count": 11,
     "metadata": {},
     "output_type": "execute_result"
    }
   ],
   "source": [
    "whitelist = string.ascii_letters + string.digits + ' '\n",
    "whitelist"
   ]
  },
  {
   "cell_type": "code",
   "execution_count": 12,
   "id": "596e79f5",
   "metadata": {},
   "outputs": [
    {
     "data": {
      "text/plain": [
       "['a', 'about', 'above', 'after', 'again']"
      ]
     },
     "execution_count": 12,
     "metadata": {},
     "output_type": "execute_result"
    }
   ],
   "source": [
    "stop_words = get_stop_words('en')\n",
    "stop_words[:5]"
   ]
  },
  {
   "cell_type": "code",
   "execution_count": 13,
   "id": "a5e4f076",
   "metadata": {},
   "outputs": [],
   "source": [
    "filter_words = ['http', 'https', 'photo', 'picture', 'image', 'insta', 'instagram', 'post']\n",
    "for word in filter_words:\n",
    "    stop_words.append(word)"
   ]
  },
  {
   "cell_type": "code",
   "execution_count": 14,
   "id": "9b0a8704",
   "metadata": {},
   "outputs": [],
   "source": [
    "def clean_caption(caption: str) -> str:\n",
    "    caption = caption.replace('#', '').replace('  ', ' ')\n",
    "    cleaned_caption = []\n",
    "    for char in caption:\n",
    "        if char in whitelist:\n",
    "            cleaned_caption.append(char)\n",
    "    return ''.join(cleaned_caption)"
   ]
  },
  {
   "cell_type": "code",
   "execution_count": 15,
   "id": "e4f9f60f",
   "metadata": {},
   "outputs": [],
   "source": [
    "captions = {}\n",
    "\n",
    "for file_name in glob.glob('./data/captions/newyork/*.txt'):\n",
    "    with open(file_name, 'r') as f:\n",
    "        caption_id = file_name.split('/')[-1].replace('.txt', '')\n",
    "        lines = []\n",
    "        for line in f.readlines():\n",
    "            lines.append(line)\n",
    "        caption = ' '.join(lines)\n",
    "        caption = clean_caption(caption)\n",
    "        captions[caption_id] = caption"
   ]
  },
  {
   "cell_type": "markdown",
   "id": "f12bb929",
   "metadata": {},
   "source": [
    "#### Tokenize "
   ]
  },
  {
   "cell_type": "code",
   "execution_count": 16,
   "id": "7d968e6e",
   "metadata": {},
   "outputs": [],
   "source": [
    "tokenized_captions = {}\n",
    "\n",
    "for id_, caption in captions.items():\n",
    "    caption = caption.lower()\n",
    "    tokens = gensim.utils.simple_preprocess(caption)\n",
    "    filtered_tokens = [token for token in tokens if not token in stop_words]\n",
    "    filtered_tokens_in_vocab = [token for token in filtered_tokens if token in model.wv.key_to_index]\n",
    "    tokenized_captions[id_] = filtered_tokens_in_vocab"
   ]
  },
  {
   "cell_type": "markdown",
   "id": "327f1356",
   "metadata": {},
   "source": [
    "#### Create embedding"
   ]
  },
  {
   "cell_type": "code",
   "execution_count": 17,
   "id": "77c387b3",
   "metadata": {},
   "outputs": [],
   "source": [
    "vector_size = 100 # word representation size"
   ]
  },
  {
   "cell_type": "code",
   "execution_count": 18,
   "id": "7c0ab36b",
   "metadata": {},
   "outputs": [],
   "source": [
    "caption_embedding = {}\n",
    "for id_, caption in tokenized_captions.items():\n",
    "    embedding = np.zeros(vector_size)\n",
    "    # compute embedding of each word and the whole caption - average embedding of words\n",
    "    for token in caption:\n",
    "        embedding += model.wv[token]\n",
    "    # normalize the embedding - divide by number of words\n",
    "    if len(caption) > 1:\n",
    "        embedding /= len(caption)\n",
    "    # min at 0 and divide by max\n",
    "    if min(embedding) < 0:\n",
    "        embedding = embedding - min(embedding)\n",
    "    if max(embedding) > 0:\n",
    "         embedding = embedding / max(embedding)\n",
    "    vec = []\n",
    "    for i in range(vector_size):\n",
    "        vec.append(str(embedding[i]))\n",
    "\n",
    "    caption_embedding[id_] = ','.join(vec)"
   ]
  },
  {
   "cell_type": "code",
   "execution_count": 19,
   "id": "bdd76c2b",
   "metadata": {},
   "outputs": [
    {
     "data": {
      "text/plain": [
       "10"
      ]
     },
     "execution_count": 19,
     "metadata": {},
     "output_type": "execute_result"
    }
   ],
   "source": [
    "len(caption_embedding)"
   ]
  },
  {
   "cell_type": "code",
   "execution_count": 20,
   "id": "02468158",
   "metadata": {},
   "outputs": [],
   "source": [
    "df = pd.DataFrame(list(caption_embedding.items()), columns=['id', 'caption_vec'])"
   ]
  },
  {
   "cell_type": "code",
   "execution_count": 21,
   "id": "3ae2c1b8",
   "metadata": {},
   "outputs": [
    {
     "data": {
      "text/html": [
       "<div>\n",
       "<style scoped>\n",
       "    .dataframe tbody tr th:only-of-type {\n",
       "        vertical-align: middle;\n",
       "    }\n",
       "\n",
       "    .dataframe tbody tr th {\n",
       "        vertical-align: top;\n",
       "    }\n",
       "\n",
       "    .dataframe thead th {\n",
       "        text-align: right;\n",
       "    }\n",
       "</style>\n",
       "<table border=\"1\" class=\"dataframe\">\n",
       "  <thead>\n",
       "    <tr style=\"text-align: right;\">\n",
       "      <th></th>\n",
       "      <th>id</th>\n",
       "      <th>caption_vec</th>\n",
       "    </tr>\n",
       "  </thead>\n",
       "  <tbody>\n",
       "    <tr>\n",
       "      <th>0</th>\n",
       "      <td>1480879599445220766</td>\n",
       "      <td>0.5555035161845882,0.9626889195468908,0.550639...</td>\n",
       "    </tr>\n",
       "    <tr>\n",
       "      <th>1</th>\n",
       "      <td>1480879493756363036</td>\n",
       "      <td>0.5589446679391084,0.4026430898918909,0.512165...</td>\n",
       "    </tr>\n",
       "    <tr>\n",
       "      <th>2</th>\n",
       "      <td>1480879485913200243</td>\n",
       "      <td>0.7945310088517241,0.2373072246507963,0.229642...</td>\n",
       "    </tr>\n",
       "    <tr>\n",
       "      <th>3</th>\n",
       "      <td>1480879545439850674</td>\n",
       "      <td>0.12139521366120073,0.7272543320605608,0.70181...</td>\n",
       "    </tr>\n",
       "    <tr>\n",
       "      <th>4</th>\n",
       "      <td>1480879528443144184</td>\n",
       "      <td>0.3936537196372196,0.1793626396890647,0.910459...</td>\n",
       "    </tr>\n",
       "    <tr>\n",
       "      <th>5</th>\n",
       "      <td>1480879622614007520</td>\n",
       "      <td>0.39641157046095477,0.47501276679717197,0.8663...</td>\n",
       "    </tr>\n",
       "    <tr>\n",
       "      <th>6</th>\n",
       "      <td>1480879551018326741</td>\n",
       "      <td>0.42926041480330285,0.37984876536332884,0.5169...</td>\n",
       "    </tr>\n",
       "    <tr>\n",
       "      <th>7</th>\n",
       "      <td>1480879623192671215</td>\n",
       "      <td>0.0,0.7998890996349065,0.39711905403346415,0.2...</td>\n",
       "    </tr>\n",
       "    <tr>\n",
       "      <th>8</th>\n",
       "      <td>1480879572073167385</td>\n",
       "      <td>0.7411503542520272,0.7737430387089678,0.467731...</td>\n",
       "    </tr>\n",
       "    <tr>\n",
       "      <th>9</th>\n",
       "      <td>1480879539524935620</td>\n",
       "      <td>0.0,0.6279793888068568,0.15500728594231702,0.6...</td>\n",
       "    </tr>\n",
       "  </tbody>\n",
       "</table>\n",
       "</div>"
      ],
      "text/plain": [
       "                    id                                        caption_vec\n",
       "0  1480879599445220766  0.5555035161845882,0.9626889195468908,0.550639...\n",
       "1  1480879493756363036  0.5589446679391084,0.4026430898918909,0.512165...\n",
       "2  1480879485913200243  0.7945310088517241,0.2373072246507963,0.229642...\n",
       "3  1480879545439850674  0.12139521366120073,0.7272543320605608,0.70181...\n",
       "4  1480879528443144184  0.3936537196372196,0.1793626396890647,0.910459...\n",
       "5  1480879622614007520  0.39641157046095477,0.47501276679717197,0.8663...\n",
       "6  1480879551018326741  0.42926041480330285,0.37984876536332884,0.5169...\n",
       "7  1480879623192671215  0.0,0.7998890996349065,0.39711905403346415,0.2...\n",
       "8  1480879572073167385  0.7411503542520272,0.7737430387089678,0.467731...\n",
       "9  1480879539524935620  0.0,0.6279793888068568,0.15500728594231702,0.6..."
      ]
     },
     "execution_count": 21,
     "metadata": {},
     "output_type": "execute_result"
    }
   ],
   "source": [
    "df.head(10)"
   ]
  },
  {
   "cell_type": "code",
   "execution_count": 23,
   "id": "93d2dbf5",
   "metadata": {},
   "outputs": [],
   "source": [
    "df.to_csv('./data/embedding/caption_embedding.csv', sep='\\t', index=False, header=False)"
   ]
  },
  {
   "cell_type": "code",
   "execution_count": null,
   "id": "9ef5499f",
   "metadata": {},
   "outputs": [],
   "source": []
  }
 ],
 "metadata": {
  "kernelspec": {
   "display_name": "conda_python3",
   "language": "python",
   "name": "conda_python3"
  },
  "language_info": {
   "codemirror_mode": {
    "name": "ipython",
    "version": 3
   },
   "file_extension": ".py",
   "mimetype": "text/x-python",
   "name": "python",
   "nbconvert_exporter": "python",
   "pygments_lexer": "ipython3",
   "version": "3.6.13"
  }
 },
 "nbformat": 4,
 "nbformat_minor": 5
}
